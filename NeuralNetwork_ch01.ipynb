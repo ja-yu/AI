{
  "nbformat": 4,
  "nbformat_minor": 0,
  "metadata": {
    "colab": {
      "name": "NeuralNetwork-ch01.ipynb",
      "provenance": [],
      "collapsed_sections": [],
      "authorship_tag": "ABX9TyN0n30PCEKYWW6Bs1gX96K0",
      "include_colab_link": true
    },
    "kernelspec": {
      "name": "python3",
      "display_name": "Python 3"
    }
  },
  "cells": [
    {
      "cell_type": "markdown",
      "metadata": {
        "id": "view-in-github",
        "colab_type": "text"
      },
      "source": [
        "<a href=\"https://colab.research.google.com/github/ja-yu/AI/blob/main/NeuralNetwork_ch01.ipynb\" target=\"_parent\"><img src=\"https://colab.research.google.com/assets/colab-badge.svg\" alt=\"Open In Colab\"/></a>"
      ]
    },
    {
      "cell_type": "code",
      "metadata": {
        "colab": {
          "base_uri": "https://localhost:8080/"
        },
        "id": "BL4mvKonWba7",
        "outputId": "991fc7da-0808-448f-9605-95ff9e537acd"
      },
      "source": [
        "! git clone https://github.com/oreilly-japan/deep-learning-from-scratch.git"
      ],
      "execution_count": null,
      "outputs": [
        {
          "output_type": "stream",
          "text": [
            "Cloning into 'deep-learning-from-scratch'...\n",
            "remote: Enumerating objects: 446, done.\u001b[K\n",
            "remote: Total 446 (delta 0), reused 0 (delta 0), pack-reused 446\u001b[K\n",
            "Receiving objects: 100% (446/446), 5.52 MiB | 7.85 MiB/s, done.\n",
            "Resolving deltas: 100% (232/232), done.\n"
          ],
          "name": "stdout"
        }
      ]
    },
    {
      "cell_type": "code",
      "metadata": {
        "colab": {
          "base_uri": "https://localhost:8080/"
        },
        "id": "oLQfWtPBWkTF",
        "outputId": "30827d2f-305d-4112-d2b1-011056bf7cb8"
      },
      "source": [
        "ls"
      ],
      "execution_count": null,
      "outputs": [
        {
          "output_type": "stream",
          "text": [
            "\u001b[0m\u001b[01;34mdeep-learning-from-scratch\u001b[0m/  \u001b[01;34msample_data\u001b[0m/\n"
          ],
          "name": "stdout"
        }
      ]
    },
    {
      "cell_type": "code",
      "metadata": {
        "colab": {
          "base_uri": "https://localhost:8080/"
        },
        "id": "LnTAEeWEWmid",
        "outputId": "ca12bf60-6f9e-4382-949b-f7ccdd0cbbca"
      },
      "source": [
        "cd deep-learning-from-scratch"
      ],
      "execution_count": null,
      "outputs": [
        {
          "output_type": "stream",
          "text": [
            "/content/deep-learning-from-scratch\n"
          ],
          "name": "stdout"
        }
      ]
    },
    {
      "cell_type": "code",
      "metadata": {
        "colab": {
          "base_uri": "https://localhost:8080/"
        },
        "id": "HT6_6G8wWu8e",
        "outputId": "47d1a0ef-6cef-4785-b7ad-3a6083f60af0"
      },
      "source": [
        "ls"
      ],
      "execution_count": null,
      "outputs": [
        {
          "output_type": "stream",
          "text": [
            "\u001b[0m\u001b[01;34mch01\u001b[0m/  \u001b[01;34mch03\u001b[0m/  \u001b[01;34mch05\u001b[0m/  \u001b[01;34mch07\u001b[0m/  \u001b[01;34mcommon\u001b[0m/   \u001b[01;32mLICENSE.md\u001b[0m*\n",
            "\u001b[01;34mch02\u001b[0m/  \u001b[01;34mch04\u001b[0m/  \u001b[01;34mch06\u001b[0m/  \u001b[01;34mch08\u001b[0m/  \u001b[01;34mdataset\u001b[0m/  README.md\n"
          ],
          "name": "stdout"
        }
      ]
    },
    {
      "cell_type": "code",
      "metadata": {
        "colab": {
          "base_uri": "https://localhost:8080/"
        },
        "id": "UgBLIK_IWxbm",
        "outputId": "a53dca56-c523-4fec-ae6e-e5f69a81c4a5"
      },
      "source": [
        "cd ch01"
      ],
      "execution_count": null,
      "outputs": [
        {
          "output_type": "stream",
          "text": [
            "/content/deep-learning-from-scratch/ch01\n"
          ],
          "name": "stdout"
        }
      ]
    },
    {
      "cell_type": "code",
      "metadata": {
        "colab": {
          "base_uri": "https://localhost:8080/"
        },
        "id": "c_7wiNn3W7L9",
        "outputId": "cf037dfd-3d10-4be5-ea93-5468b4a5aae6"
      },
      "source": [
        "ls"
      ],
      "execution_count": null,
      "outputs": [
        {
          "output_type": "stream",
          "text": [
            "hungry.py  img_show.py  man.py  simple_graph.py  sin_cos_graph.py  sin_graph.py\n"
          ],
          "name": "stdout"
        }
      ]
    },
    {
      "cell_type": "code",
      "metadata": {
        "colab": {
          "base_uri": "https://localhost:8080/"
        },
        "id": "QyqEISG-W-R1",
        "outputId": "5d664876-e70c-4a58-b7dc-368b12f9cf55"
      },
      "source": [
        "cat hungry.py"
      ],
      "execution_count": null,
      "outputs": [
        {
          "output_type": "stream",
          "text": [
            "print(\"I'm hungry!\")\n"
          ],
          "name": "stdout"
        }
      ]
    },
    {
      "cell_type": "code",
      "metadata": {
        "colab": {
          "base_uri": "https://localhost:8080/"
        },
        "id": "7To-8WYEXh2G",
        "outputId": "ed13035c-e047-418b-cbd9-212d6299aa7a"
      },
      "source": [
        "! python hungry.py"
      ],
      "execution_count": null,
      "outputs": [
        {
          "output_type": "stream",
          "text": [
            "I'm hungry!\n"
          ],
          "name": "stdout"
        }
      ]
    },
    {
      "cell_type": "code",
      "metadata": {
        "colab": {
          "base_uri": "https://localhost:8080/"
        },
        "id": "3ydWDYFQXmo9",
        "outputId": "66666377-c5a6-4190-f25e-26cf76be966a"
      },
      "source": [
        "cat img_show.py"
      ],
      "execution_count": null,
      "outputs": [
        {
          "output_type": "stream",
          "text": [
            "# coding: utf-8\n",
            "import matplotlib.pyplot as plt\n",
            "from matplotlib.image import imread\n",
            "\n",
            "img = imread('../dataset/lena.png') # 画像の読み込み\n",
            "plt.imshow(img)\n",
            "\n",
            "plt.show()"
          ],
          "name": "stdout"
        }
      ]
    },
    {
      "cell_type": "code",
      "metadata": {
        "colab": {
          "base_uri": "https://localhost:8080/"
        },
        "id": "2kiatZd_XsEF",
        "outputId": "bafd2cdb-05b7-4264-ddd0-2ff9ea0eaaa0"
      },
      "source": [
        "! python img_show.py"
      ],
      "execution_count": null,
      "outputs": [
        {
          "output_type": "stream",
          "text": [
            "<Figure size 640x480 with 1 Axes>\n"
          ],
          "name": "stdout"
        }
      ]
    },
    {
      "cell_type": "code",
      "metadata": {
        "colab": {
          "base_uri": "https://localhost:8080/"
        },
        "id": "WkQX2uGRYFrd",
        "outputId": "4692f256-892b-4808-a8bd-be2c77bec866"
      },
      "source": [
        "cat man.py"
      ],
      "execution_count": null,
      "outputs": [
        {
          "output_type": "stream",
          "text": [
            "# coding: utf-8\n",
            "class Man:\n",
            "    \"\"\"サンプルクラス\"\"\"\n",
            "\n",
            "    def __init__(self, name):\n",
            "        self.name = name\n",
            "        print(\"Initilized!\")\n",
            "\n",
            "    def hello(self):\n",
            "        print(\"Hello \" + self.name + \"!\")\n",
            "\n",
            "    def goodbye(self):\n",
            "        print(\"Good-bye \" + self.name + \"!\")\n",
            "\n",
            "m = Man(\"David\")\n",
            "m.hello()\n",
            "m.goodbye()"
          ],
          "name": "stdout"
        }
      ]
    },
    {
      "cell_type": "code",
      "metadata": {
        "colab": {
          "base_uri": "https://localhost:8080/"
        },
        "id": "I5asgA2UYOYG",
        "outputId": "ab48682f-524d-4c48-e2de-0dea680d7fe1"
      },
      "source": [
        "! python man.py"
      ],
      "execution_count": null,
      "outputs": [
        {
          "output_type": "stream",
          "text": [
            "Initilized!\n",
            "Hello David!\n",
            "Good-bye David!\n"
          ],
          "name": "stdout"
        }
      ]
    },
    {
      "cell_type": "code",
      "metadata": {
        "colab": {
          "base_uri": "https://localhost:8080/"
        },
        "id": "7W78LV0WYVyn",
        "outputId": "5195e121-2683-47a4-92b8-3aa6f27799c0"
      },
      "source": [
        "cat simple_graph.py"
      ],
      "execution_count": null,
      "outputs": [
        {
          "output_type": "stream",
          "text": [
            "# coding: utf-8\n",
            "import numpy as np\n",
            "import matplotlib.pyplot as plt\n",
            "\n",
            "# データの作成\n",
            "x = np.arange(0, 6, 0.1) # 0から6まで0.1刻みで生成\n",
            "y = np.sin(x)\n",
            "\n",
            "# グラフの描画\n",
            "plt.plot(x, y)\n",
            "plt.show()"
          ],
          "name": "stdout"
        }
      ]
    },
    {
      "cell_type": "code",
      "metadata": {
        "colab": {
          "base_uri": "https://localhost:8080/"
        },
        "id": "qNlmDK3UYbBQ",
        "outputId": "2fa6ef04-63cd-49bb-c931-c6a3ecfe8c3d"
      },
      "source": [
        "! python simple_graph.py"
      ],
      "execution_count": null,
      "outputs": [
        {
          "output_type": "stream",
          "text": [
            "<Figure size 640x480 with 1 Axes>\n"
          ],
          "name": "stdout"
        }
      ]
    },
    {
      "cell_type": "code",
      "metadata": {
        "colab": {
          "base_uri": "https://localhost:8080/"
        },
        "id": "GRd3NjRuYkEG",
        "outputId": "d28ed1db-5362-4db3-9067-4fd69d506df1"
      },
      "source": [
        "cat sin_cos_graph.py"
      ],
      "execution_count": null,
      "outputs": [
        {
          "output_type": "stream",
          "text": [
            "# coding: utf-8\n",
            "import numpy as np\n",
            "import matplotlib.pyplot as plt\n",
            "\n",
            "# データの作成\n",
            "x = np.arange(0, 6, 0.1) # 0から6まで0.1刻みで生成\n",
            "y1 = np.sin(x)\n",
            "y2 = np.cos(x)\n",
            "\n",
            "# グラフの描画\n",
            "plt.plot(x, y1, label=\"sin\")\n",
            "plt.plot(x, y2, linestyle = \"--\", label=\"cos\")\n",
            "plt.xlabel(\"x\") # x軸のラベル\n",
            "plt.ylabel(\"y\") # y軸のラベル\n",
            "plt.title('sin & cos')\n",
            "plt.legend()\n",
            "plt.show()"
          ],
          "name": "stdout"
        }
      ]
    },
    {
      "cell_type": "code",
      "metadata": {
        "colab": {
          "base_uri": "https://localhost:8080/"
        },
        "id": "57BD9PpsYonO",
        "outputId": "eeb0028e-12f3-4f4c-b571-b46d7b5d61e6"
      },
      "source": [
        "! python sin_cos_graph.py"
      ],
      "execution_count": null,
      "outputs": [
        {
          "output_type": "stream",
          "text": [
            "<Figure size 640x480 with 1 Axes>\n"
          ],
          "name": "stdout"
        }
      ]
    },
    {
      "cell_type": "code",
      "metadata": {
        "colab": {
          "base_uri": "https://localhost:8080/"
        },
        "id": "OZdsvI7OY25e",
        "outputId": "26608a45-26d1-4ff0-9755-84001d1d83e8"
      },
      "source": [
        "cat sin_graph.py"
      ],
      "execution_count": null,
      "outputs": [
        {
          "output_type": "stream",
          "text": [
            "# coding: utf-8\n",
            "import numpy as np\n",
            "import matplotlib.pyplot as plt\n",
            "\n",
            "# データの作成\n",
            "x = np.arange(0, 6, 0.1)\n",
            "y = np.sin(x)\n",
            "\n",
            "# グラフの描画\n",
            "plt.plot(x, y)\n",
            "plt.show()\n"
          ],
          "name": "stdout"
        }
      ]
    },
    {
      "cell_type": "code",
      "metadata": {
        "colab": {
          "base_uri": "https://localhost:8080/"
        },
        "id": "_zC3V6AYaHM-",
        "outputId": "a124dec4-ebc2-45c1-c91f-2fc771456e90"
      },
      "source": [
        "! python sin_graph.py"
      ],
      "execution_count": null,
      "outputs": [
        {
          "output_type": "stream",
          "text": [
            "<Figure size 640x480 with 1 Axes>\n"
          ],
          "name": "stdout"
        }
      ]
    },
    {
      "cell_type": "code",
      "metadata": {
        "colab": {
          "base_uri": "https://localhost:8080/"
        },
        "id": "YkVJ_qPwbeFu",
        "outputId": "c06a456c-d455-43af-c745-d7a8eed4df9a"
      },
      "source": [
        "cd deep-learning-from-scratch"
      ],
      "execution_count": null,
      "outputs": [
        {
          "output_type": "stream",
          "text": [
            "[Errno 2] No such file or directory: 'deep-learning-from-scratch'\n",
            "/content/deep-learning-from-scratch/ch01\n"
          ],
          "name": "stdout"
        }
      ]
    },
    {
      "cell_type": "code",
      "metadata": {
        "colab": {
          "base_uri": "https://localhost:8080/"
        },
        "id": "N7-SrK1yd-2v",
        "outputId": "5a6fb637-717e-41f2-933c-577567e634d3"
      },
      "source": [
        "! git clone https://github.com/oreilly-japan/deep-learning-from-scratch.git"
      ],
      "execution_count": null,
      "outputs": [
        {
          "output_type": "stream",
          "text": [
            "Cloning into 'deep-learning-from-scratch'...\n",
            "remote: Enumerating objects: 446, done.\u001b[K\n",
            "remote: Total 446 (delta 0), reused 0 (delta 0), pack-reused 446\u001b[K\n",
            "Receiving objects: 100% (446/446), 5.52 MiB | 5.60 MiB/s, done.\n",
            "Resolving deltas: 100% (232/232), done.\n"
          ],
          "name": "stdout"
        }
      ]
    },
    {
      "cell_type": "code",
      "metadata": {
        "colab": {
          "base_uri": "https://localhost:8080/"
        },
        "id": "c9q1XewFeAS9",
        "outputId": "5227bf83-532d-471e-c02b-b8ac445f1096"
      },
      "source": [
        "cd deep-learning-from-scratch"
      ],
      "execution_count": null,
      "outputs": [
        {
          "output_type": "stream",
          "text": [
            "/content/deep-learning-from-scratch/ch01/deep-learning-from-scratch\n"
          ],
          "name": "stdout"
        }
      ]
    },
    {
      "cell_type": "code",
      "metadata": {
        "colab": {
          "base_uri": "https://localhost:8080/"
        },
        "id": "-7JFOHR-eNrl",
        "outputId": "ecd51e25-a7f8-4add-92a0-5e3c943ae13b"
      },
      "source": [
        "cd ch01"
      ],
      "execution_count": null,
      "outputs": [
        {
          "output_type": "stream",
          "text": [
            "/content/deep-learning-from-scratch/ch01/deep-learning-from-scratch/ch01\n"
          ],
          "name": "stdout"
        }
      ]
    },
    {
      "cell_type": "code",
      "metadata": {
        "colab": {
          "base_uri": "https://localhost:8080/"
        },
        "id": "EtwcUvGFeR4N",
        "outputId": "b7f8d64d-a332-4f90-f9ab-246ca1cdd118"
      },
      "source": [
        "cd /content/deep-learning-from-scratch/"
      ],
      "execution_count": null,
      "outputs": [
        {
          "output_type": "stream",
          "text": [
            "/content/deep-learning-from-scratch\n"
          ],
          "name": "stdout"
        }
      ]
    },
    {
      "cell_type": "code",
      "metadata": {
        "id": "WUIuQ7Ebeqw9",
        "colab": {
          "base_uri": "https://localhost:8080/"
        },
        "outputId": "3646857b-86cc-43a2-e259-1d8458905fc4"
      },
      "source": [
        "cd ch02"
      ],
      "execution_count": null,
      "outputs": [
        {
          "output_type": "stream",
          "text": [
            "/content/deep-learning-from-scratch/ch02\n"
          ],
          "name": "stdout"
        }
      ]
    },
    {
      "cell_type": "code",
      "metadata": {
        "id": "swwEy2o3es5t",
        "colab": {
          "base_uri": "https://localhost:8080/"
        },
        "outputId": "fd323da0-d683-4b17-a391-5ae8c0b9c230"
      },
      "source": [
        "ls"
      ],
      "execution_count": null,
      "outputs": [
        {
          "output_type": "stream",
          "text": [
            "and_gate.py  nand_gate.py  or_gate.py  xor_gate.py\n"
          ],
          "name": "stdout"
        }
      ]
    }
  ]
}