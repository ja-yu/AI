{
  "nbformat": 4,
  "nbformat_minor": 0,
  "metadata": {
    "colab": {
      "name": "NeuralNetwork-ch05.ipynb",
      "provenance": [],
      "collapsed_sections": [],
      "authorship_tag": "ABX9TyMtA//fxY3am2Osm9dLv0hQ",
      "include_colab_link": true
    },
    "kernelspec": {
      "name": "python3",
      "display_name": "Python 3"
    }
  },
  "cells": [
    {
      "cell_type": "markdown",
      "metadata": {
        "id": "view-in-github",
        "colab_type": "text"
      },
      "source": [
        "<a href=\"https://colab.research.google.com/github/ja-yu/AI/blob/main/NeuralNetwork_ch05.ipynb\" target=\"_parent\"><img src=\"https://colab.research.google.com/assets/colab-badge.svg\" alt=\"Open In Colab\"/></a>"
      ]
    },
    {
      "cell_type": "code",
      "metadata": {
        "colab": {
          "base_uri": "https://localhost:8080/"
        },
        "id": "eNq_FCw1XAQD",
        "outputId": "2721879d-a140-497d-97d0-cd10d8535331"
      },
      "source": [
        "! git clone https://github.com/oreilly-japan/deep-learning-from-scratch.git"
      ],
      "execution_count": 1,
      "outputs": [
        {
          "output_type": "stream",
          "text": [
            "Cloning into 'deep-learning-from-scratch'...\n",
            "remote: Enumerating objects: 446, done.\u001b[K\n",
            "remote: Total 446 (delta 0), reused 0 (delta 0), pack-reused 446\u001b[K\n",
            "Receiving objects: 100% (446/446), 5.52 MiB | 29.57 MiB/s, done.\n",
            "Resolving deltas: 100% (232/232), done.\n"
          ],
          "name": "stdout"
        }
      ]
    },
    {
      "cell_type": "code",
      "metadata": {
        "colab": {
          "base_uri": "https://localhost:8080/"
        },
        "id": "vzmkJ7gnXPH-",
        "outputId": "598598fc-f754-4bc2-ae29-351ea51bd395"
      },
      "source": [
        "ls"
      ],
      "execution_count": 2,
      "outputs": [
        {
          "output_type": "stream",
          "text": [
            "\u001b[0m\u001b[01;34mdeep-learning-from-scratch\u001b[0m/  \u001b[01;34msample_data\u001b[0m/\n"
          ],
          "name": "stdout"
        }
      ]
    },
    {
      "cell_type": "code",
      "metadata": {
        "colab": {
          "base_uri": "https://localhost:8080/"
        },
        "id": "f6NQaP_VXfPS",
        "outputId": "5ff6c54a-7a6b-4f19-e48f-ce1cd75e02e6"
      },
      "source": [
        "cd deep-learning-from-scratch/ "
      ],
      "execution_count": 3,
      "outputs": [
        {
          "output_type": "stream",
          "text": [
            "/content/deep-learning-from-scratch\n"
          ],
          "name": "stdout"
        }
      ]
    },
    {
      "cell_type": "code",
      "metadata": {
        "colab": {
          "base_uri": "https://localhost:8080/"
        },
        "id": "cFuzfXU8XioM",
        "outputId": "6d9bda2a-74e8-420f-9253-7ff4bf125527"
      },
      "source": [
        "ls"
      ],
      "execution_count": 4,
      "outputs": [
        {
          "output_type": "stream",
          "text": [
            "\u001b[0m\u001b[01;34mch01\u001b[0m/  \u001b[01;34mch03\u001b[0m/  \u001b[01;34mch05\u001b[0m/  \u001b[01;34mch07\u001b[0m/  \u001b[01;34mcommon\u001b[0m/   \u001b[01;32mLICENSE.md\u001b[0m*\n",
            "\u001b[01;34mch02\u001b[0m/  \u001b[01;34mch04\u001b[0m/  \u001b[01;34mch06\u001b[0m/  \u001b[01;34mch08\u001b[0m/  \u001b[01;34mdataset\u001b[0m/  README.md\n"
          ],
          "name": "stdout"
        }
      ]
    },
    {
      "cell_type": "code",
      "metadata": {
        "colab": {
          "base_uri": "https://localhost:8080/"
        },
        "id": "A3RTduzOXlL6",
        "outputId": "650136d9-1f41-434b-d546-f8e6a6b5ce11"
      },
      "source": [
        "cd ch05/"
      ],
      "execution_count": 5,
      "outputs": [
        {
          "output_type": "stream",
          "text": [
            "/content/deep-learning-from-scratch/ch05\n"
          ],
          "name": "stdout"
        }
      ]
    },
    {
      "cell_type": "code",
      "metadata": {
        "colab": {
          "base_uri": "https://localhost:8080/"
        },
        "id": "IJ9tyk_mXp5E",
        "outputId": "87a5340c-de39-40bc-82a6-bca320220245"
      },
      "source": [
        "ls"
      ],
      "execution_count": 6,
      "outputs": [
        {
          "output_type": "stream",
          "text": [
            "buy_apple_orange.py  gradient_check.py  train_neuralnet.py\n",
            "buy_apple.py         layer_naive.py     two_layer_net.py\n"
          ],
          "name": "stdout"
        }
      ]
    },
    {
      "cell_type": "code",
      "metadata": {
        "colab": {
          "base_uri": "https://localhost:8080/"
        },
        "id": "bJmO7ryfXrQj",
        "outputId": "7a3978f2-c774-4b23-927d-b92e34a85b97"
      },
      "source": [
        "cat buy_apple_orange.py"
      ],
      "execution_count": 7,
      "outputs": [
        {
          "output_type": "stream",
          "text": [
            "# coding: utf-8\n",
            "from layer_naive import *\n",
            "\n",
            "apple = 100\n",
            "apple_num = 2\n",
            "orange = 150\n",
            "orange_num = 3\n",
            "tax = 1.1\n",
            "\n",
            "# layer\n",
            "mul_apple_layer = MulLayer()\n",
            "mul_orange_layer = MulLayer()\n",
            "add_apple_orange_layer = AddLayer()\n",
            "mul_tax_layer = MulLayer()\n",
            "\n",
            "# forward\n",
            "apple_price = mul_apple_layer.forward(apple, apple_num)  # (1)\n",
            "orange_price = mul_orange_layer.forward(orange, orange_num)  # (2)\n",
            "all_price = add_apple_orange_layer.forward(apple_price, orange_price)  # (3)\n",
            "price = mul_tax_layer.forward(all_price, tax)  # (4)\n",
            "\n",
            "# backward\n",
            "dprice = 1\n",
            "dall_price, dtax = mul_tax_layer.backward(dprice)  # (4)\n",
            "dapple_price, dorange_price = add_apple_orange_layer.backward(dall_price)  # (3)\n",
            "dorange, dorange_num = mul_orange_layer.backward(dorange_price)  # (2)\n",
            "dapple, dapple_num = mul_apple_layer.backward(dapple_price)  # (1)\n",
            "\n",
            "print(\"price:\", int(price))\n",
            "print(\"dApple:\", dapple)\n",
            "print(\"dApple_num:\", int(dapple_num))\n",
            "print(\"dOrange:\", dorange)\n",
            "print(\"dOrange_num:\", int(dorange_num))\n",
            "print(\"dTax:\", dtax)\n"
          ],
          "name": "stdout"
        }
      ]
    },
    {
      "cell_type": "code",
      "metadata": {
        "colab": {
          "base_uri": "https://localhost:8080/"
        },
        "id": "xYYmLbToX4NW",
        "outputId": "93b10ad1-962c-48cb-9a02-5c1cccbaf2fb"
      },
      "source": [
        "! python buy_apple_orange.py"
      ],
      "execution_count": 8,
      "outputs": [
        {
          "output_type": "stream",
          "text": [
            "price: 715\n",
            "dApple: 2.2\n",
            "dApple_num: 110\n",
            "dOrange: 3.3000000000000003\n",
            "dOrange_num: 165\n",
            "dTax: 650\n"
          ],
          "name": "stdout"
        }
      ]
    },
    {
      "cell_type": "code",
      "metadata": {
        "colab": {
          "base_uri": "https://localhost:8080/"
        },
        "id": "cFQNMRXdXuoo",
        "outputId": "2a9e0a77-d5fa-480a-a787-44eab4ef741a"
      },
      "source": [
        "cat buy_apple.py "
      ],
      "execution_count": 9,
      "outputs": [
        {
          "output_type": "stream",
          "text": [
            "# coding: utf-8\n",
            "from layer_naive import *\n",
            "\n",
            "\n",
            "apple = 100\n",
            "apple_num = 2\n",
            "tax = 1.1\n",
            "\n",
            "mul_apple_layer = MulLayer()\n",
            "mul_tax_layer = MulLayer()\n",
            "\n",
            "# forward\n",
            "apple_price = mul_apple_layer.forward(apple, apple_num)\n",
            "price = mul_tax_layer.forward(apple_price, tax)\n",
            "\n",
            "# backward\n",
            "dprice = 1\n",
            "dapple_price, dtax = mul_tax_layer.backward(dprice)\n",
            "dapple, dapple_num = mul_apple_layer.backward(dapple_price)\n",
            "\n",
            "print(\"price:\", int(price))\n",
            "print(\"dApple:\", dapple)\n",
            "print(\"dApple_num:\", int(dapple_num))\n",
            "print(\"dTax:\", dtax)\n"
          ],
          "name": "stdout"
        }
      ]
    },
    {
      "cell_type": "code",
      "metadata": {
        "colab": {
          "base_uri": "https://localhost:8080/"
        },
        "id": "AB4gfMJVX-aU",
        "outputId": "62748836-828e-4e76-c0c7-c7b4f3ffc60e"
      },
      "source": [
        "! python buy_apple.py "
      ],
      "execution_count": 10,
      "outputs": [
        {
          "output_type": "stream",
          "text": [
            "price: 220\n",
            "dApple: 2.2\n",
            "dApple_num: 110\n",
            "dTax: 200\n"
          ],
          "name": "stdout"
        }
      ]
    },
    {
      "cell_type": "code",
      "metadata": {
        "colab": {
          "base_uri": "https://localhost:8080/"
        },
        "id": "c-WN6XPgXvGf",
        "outputId": "aa779301-e0de-4b3d-f4a3-685ef58b33a6"
      },
      "source": [
        "cat gradient_check.py"
      ],
      "execution_count": 11,
      "outputs": [
        {
          "output_type": "stream",
          "text": [
            "# coding: utf-8\n",
            "import sys, os\n",
            "sys.path.append(os.pardir)  # 親ディレクトリのファイルをインポートするための設定\n",
            "import numpy as np\n",
            "from dataset.mnist import load_mnist\n",
            "from two_layer_net import TwoLayerNet\n",
            "\n",
            "# データの読み込み\n",
            "(x_train, t_train), (x_test, t_test) = load_mnist(normalize=True, one_hot_label=True)\n",
            "\n",
            "network = TwoLayerNet(input_size=784, hidden_size=50, output_size=10)\n",
            "\n",
            "x_batch = x_train[:3]\n",
            "t_batch = t_train[:3]\n",
            "\n",
            "grad_numerical = network.numerical_gradient(x_batch, t_batch)\n",
            "grad_backprop = network.gradient(x_batch, t_batch)\n",
            "\n",
            "for key in grad_numerical.keys():\n",
            "    diff = np.average( np.abs(grad_backprop[key] - grad_numerical[key]) )\n",
            "    print(key + \":\" + str(diff))"
          ],
          "name": "stdout"
        }
      ]
    },
    {
      "cell_type": "code",
      "metadata": {
        "colab": {
          "base_uri": "https://localhost:8080/"
        },
        "id": "5RuomeQPYEBe",
        "outputId": "5a84f9ae-9f5c-43b8-9e9b-75a9d4ee8d38"
      },
      "source": [
        "! python gradient_check.py"
      ],
      "execution_count": 13,
      "outputs": [
        {
          "output_type": "stream",
          "text": [
            "Traceback (most recent call last):\n",
            "  File \"gradient_check.py\", line 16, in <module>\n",
            "    grad_numerical = network.numerical_gradient(x_batch, t_batch)\n",
            "  File \"/content/deep-learning-from-scratch/ch05/two_layer_net.py\", line 52, in numerical_gradient\n",
            "    grads['W1'] = numerical_gradient(loss_W, self.params['W1'])\n",
            "  File \"../common/gradient.py\", line 46, in numerical_gradient\n",
            "    fxh2 = f(x) # f(x-h)\n",
            "  File \"/content/deep-learning-from-scratch/ch05/two_layer_net.py\", line 49, in <lambda>\n",
            "    loss_W = lambda W: self.loss(x, t)\n",
            "  File \"/content/deep-learning-from-scratch/ch05/two_layer_net.py\", line 36, in loss\n",
            "    y = self.predict(x)\n",
            "  File \"/content/deep-learning-from-scratch/ch05/two_layer_net.py\", line 30, in predict\n",
            "    x = layer.forward(x)\n",
            "  File \"../common/layers.py\", line 57, in forward\n",
            "    out = np.dot(self.x, self.W) + self.b\n",
            "  File \"<__array_function__ internals>\", line 4, in dot\n",
            "  File \"/usr/local/lib/python3.6/dist-packages/numpy/core/multiarray.py\", line 707, in dot\n",
            "    @array_function_from_c_func_and_dispatcher(_multiarray_umath.dot)\n",
            "KeyboardInterrupt\n"
          ],
          "name": "stdout"
        }
      ]
    },
    {
      "cell_type": "code",
      "metadata": {
        "colab": {
          "base_uri": "https://localhost:8080/"
        },
        "id": "8E7jx-BrXvZK",
        "outputId": "60191607-91e1-4bd9-88cd-06df537e81f0"
      },
      "source": [
        "cat layer_naive.py"
      ],
      "execution_count": 14,
      "outputs": [
        {
          "output_type": "stream",
          "text": [
            "# coding: utf-8\n",
            "\n",
            "\n",
            "class MulLayer:\n",
            "    def __init__(self):\n",
            "        self.x = None\n",
            "        self.y = None\n",
            "\n",
            "    def forward(self, x, y):\n",
            "        self.x = x\n",
            "        self.y = y                \n",
            "        out = x * y\n",
            "\n",
            "        return out\n",
            "\n",
            "    def backward(self, dout):\n",
            "        dx = dout * self.y\n",
            "        dy = dout * self.x\n",
            "\n",
            "        return dx, dy\n",
            "\n",
            "\n",
            "class AddLayer:\n",
            "    def __init__(self):\n",
            "        pass\n",
            "\n",
            "    def forward(self, x, y):\n",
            "        out = x + y\n",
            "\n",
            "        return out\n",
            "\n",
            "    def backward(self, dout):\n",
            "        dx = dout * 1\n",
            "        dy = dout * 1\n",
            "\n",
            "        return dx, dy\n"
          ],
          "name": "stdout"
        }
      ]
    },
    {
      "cell_type": "code",
      "metadata": {
        "id": "jNzNI6zfYNY5"
      },
      "source": [
        "! python layer_naive.py"
      ],
      "execution_count": 15,
      "outputs": []
    },
    {
      "cell_type": "code",
      "metadata": {
        "colab": {
          "base_uri": "https://localhost:8080/"
        },
        "id": "cAHY2E6cXvom",
        "outputId": "937b520b-32ad-4f80-f80c-57d2ec9799a6"
      },
      "source": [
        "cat train_neuralnet.py"
      ],
      "execution_count": 16,
      "outputs": [
        {
          "output_type": "stream",
          "text": [
            "# coding: utf-8\n",
            "import sys, os\n",
            "sys.path.append(os.pardir)\n",
            "\n",
            "import numpy as np\n",
            "from dataset.mnist import load_mnist\n",
            "from two_layer_net import TwoLayerNet\n",
            "\n",
            "# データの読み込み\n",
            "(x_train, t_train), (x_test, t_test) = load_mnist(normalize=True, one_hot_label=True)\n",
            "\n",
            "network = TwoLayerNet(input_size=784, hidden_size=50, output_size=10)\n",
            "\n",
            "iters_num = 10000\n",
            "train_size = x_train.shape[0]\n",
            "batch_size = 100\n",
            "learning_rate = 0.1\n",
            "\n",
            "train_loss_list = []\n",
            "train_acc_list = []\n",
            "test_acc_list = []\n",
            "\n",
            "iter_per_epoch = max(train_size / batch_size, 1)\n",
            "\n",
            "for i in range(iters_num):\n",
            "    batch_mask = np.random.choice(train_size, batch_size)\n",
            "    x_batch = x_train[batch_mask]\n",
            "    t_batch = t_train[batch_mask]\n",
            "    \n",
            "    # 勾配\n",
            "    #grad = network.numerical_gradient(x_batch, t_batch)\n",
            "    grad = network.gradient(x_batch, t_batch)\n",
            "    \n",
            "    # 更新\n",
            "    for key in ('W1', 'b1', 'W2', 'b2'):\n",
            "        network.params[key] -= learning_rate * grad[key]\n",
            "    \n",
            "    loss = network.loss(x_batch, t_batch)\n",
            "    train_loss_list.append(loss)\n",
            "    \n",
            "    if i % iter_per_epoch == 0:\n",
            "        train_acc = network.accuracy(x_train, t_train)\n",
            "        test_acc = network.accuracy(x_test, t_test)\n",
            "        train_acc_list.append(train_acc)\n",
            "        test_acc_list.append(test_acc)\n",
            "        print(train_acc, test_acc)\n"
          ],
          "name": "stdout"
        }
      ]
    },
    {
      "cell_type": "code",
      "metadata": {
        "colab": {
          "base_uri": "https://localhost:8080/"
        },
        "id": "KGpa2opOYRiI",
        "outputId": "0b1bd83b-9a10-4d37-a770-5ba3eb513b19"
      },
      "source": [
        "! python train_neuralnet.py"
      ],
      "execution_count": 17,
      "outputs": [
        {
          "output_type": "stream",
          "text": [
            "0.13063333333333332 0.1286\n",
            "0.9035 0.9066\n",
            "0.9219333333333334 0.9257\n",
            "0.9344166666666667 0.9348\n",
            "0.9436333333333333 0.9415\n",
            "0.9506333333333333 0.9495\n",
            "0.9548166666666666 0.9529\n",
            "0.9598166666666667 0.9576\n",
            "0.9642833333333334 0.9605\n",
            "Traceback (most recent call last):\n",
            "  File \"train_neuralnet.py\", line 32, in <module>\n",
            "    grad = network.gradient(x_batch, t_batch)\n",
            "  File \"/content/deep-learning-from-scratch/ch05/two_layer_net.py\", line 70, in gradient\n",
            "    dout = layer.backward(dout)\n",
            "  File \"../common/layers.py\", line 62, in backward\n",
            "    dx = np.dot(dout, self.W.T)\n",
            "  File \"<__array_function__ internals>\", line 6, in dot\n",
            "KeyboardInterrupt\n"
          ],
          "name": "stdout"
        }
      ]
    },
    {
      "cell_type": "code",
      "metadata": {
        "colab": {
          "base_uri": "https://localhost:8080/"
        },
        "id": "C0rj-L1HXv5-",
        "outputId": "15aedcbd-40a2-4f3d-de61-bf56217ec0ec"
      },
      "source": [
        "cat two_layer_net.py"
      ],
      "execution_count": 18,
      "outputs": [
        {
          "output_type": "stream",
          "text": [
            "# coding: utf-8\n",
            "import sys, os\n",
            "sys.path.append(os.pardir)  # 親ディレクトリのファイルをインポートするための設定\n",
            "import numpy as np\n",
            "from common.layers import *\n",
            "from common.gradient import numerical_gradient\n",
            "from collections import OrderedDict\n",
            "\n",
            "\n",
            "class TwoLayerNet:\n",
            "\n",
            "    def __init__(self, input_size, hidden_size, output_size, weight_init_std = 0.01):\n",
            "        # 重みの初期化\n",
            "        self.params = {}\n",
            "        self.params['W1'] = weight_init_std * np.random.randn(input_size, hidden_size)\n",
            "        self.params['b1'] = np.zeros(hidden_size)\n",
            "        self.params['W2'] = weight_init_std * np.random.randn(hidden_size, output_size) \n",
            "        self.params['b2'] = np.zeros(output_size)\n",
            "\n",
            "        # レイヤの生成\n",
            "        self.layers = OrderedDict()\n",
            "        self.layers['Affine1'] = Affine(self.params['W1'], self.params['b1'])\n",
            "        self.layers['Relu1'] = Relu()\n",
            "        self.layers['Affine2'] = Affine(self.params['W2'], self.params['b2'])\n",
            "\n",
            "        self.lastLayer = SoftmaxWithLoss()\n",
            "        \n",
            "    def predict(self, x):\n",
            "        for layer in self.layers.values():\n",
            "            x = layer.forward(x)\n",
            "        \n",
            "        return x\n",
            "        \n",
            "    # x:入力データ, t:教師データ\n",
            "    def loss(self, x, t):\n",
            "        y = self.predict(x)\n",
            "        return self.lastLayer.forward(y, t)\n",
            "    \n",
            "    def accuracy(self, x, t):\n",
            "        y = self.predict(x)\n",
            "        y = np.argmax(y, axis=1)\n",
            "        if t.ndim != 1 : t = np.argmax(t, axis=1)\n",
            "        \n",
            "        accuracy = np.sum(y == t) / float(x.shape[0])\n",
            "        return accuracy\n",
            "        \n",
            "    # x:入力データ, t:教師データ\n",
            "    def numerical_gradient(self, x, t):\n",
            "        loss_W = lambda W: self.loss(x, t)\n",
            "        \n",
            "        grads = {}\n",
            "        grads['W1'] = numerical_gradient(loss_W, self.params['W1'])\n",
            "        grads['b1'] = numerical_gradient(loss_W, self.params['b1'])\n",
            "        grads['W2'] = numerical_gradient(loss_W, self.params['W2'])\n",
            "        grads['b2'] = numerical_gradient(loss_W, self.params['b2'])\n",
            "        \n",
            "        return grads\n",
            "        \n",
            "    def gradient(self, x, t):\n",
            "        # forward\n",
            "        self.loss(x, t)\n",
            "\n",
            "        # backward\n",
            "        dout = 1\n",
            "        dout = self.lastLayer.backward(dout)\n",
            "        \n",
            "        layers = list(self.layers.values())\n",
            "        layers.reverse()\n",
            "        for layer in layers:\n",
            "            dout = layer.backward(dout)\n",
            "\n",
            "        # 設定\n",
            "        grads = {}\n",
            "        grads['W1'], grads['b1'] = self.layers['Affine1'].dW, self.layers['Affine1'].db\n",
            "        grads['W2'], grads['b2'] = self.layers['Affine2'].dW, self.layers['Affine2'].db\n",
            "\n",
            "        return grads\n"
          ],
          "name": "stdout"
        }
      ]
    },
    {
      "cell_type": "code",
      "metadata": {
        "id": "faRsAuT5YeZ9"
      },
      "source": [
        "! python two_layer_net.py"
      ],
      "execution_count": 19,
      "outputs": []
    }
  ]
}