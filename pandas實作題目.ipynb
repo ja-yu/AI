{
  "nbformat": 4,
  "nbformat_minor": 0,
  "metadata": {
    "colab": {
      "name": "pandas實作題目.ipynb",
      "provenance": [],
      "collapsed_sections": [],
      "authorship_tag": "ABX9TyNcD3cLd9A77P72k4EP1OYX",
      "include_colab_link": true
    },
    "kernelspec": {
      "name": "python3",
      "display_name": "Python 3"
    }
  },
  "cells": [
    {
      "cell_type": "markdown",
      "metadata": {
        "id": "view-in-github",
        "colab_type": "text"
      },
      "source": [
        "<a href=\"https://colab.research.google.com/github/ja-yu/AI/blob/main/pandas%E5%AF%A6%E4%BD%9C%E9%A1%8C%E7%9B%AE.ipynb\" target=\"_parent\"><img src=\"https://colab.research.google.com/assets/colab-badge.svg\" alt=\"Open In Colab\"/></a>"
      ]
    },
    {
      "cell_type": "code",
      "metadata": {
        "id": "ES1VTc_PISNY"
      },
      "source": [
        "In [1]: import numpy as np\n",
        "\n",
        "In [2]: import pandas as pd\n"
      ],
      "execution_count": 1,
      "outputs": []
    },
    {
      "cell_type": "markdown",
      "metadata": {
        "id": "3Mio4nFMJDjA"
      },
      "source": [
        "```\n",
        "產生pandas 物件\n",
        "索引為20201101到20201106\n",
        "欄為ABCD\n",
        "```"
      ]
    },
    {
      "cell_type": "code",
      "metadata": {
        "id": "7da91j0FJcvJ",
        "outputId": "6bd9286e-59a2-4d0c-f5ff-724510ffd5f1",
        "colab": {
          "base_uri": "https://localhost:8080/",
          "height": 235
        }
      },
      "source": [
        "dates = pd.date_range('20201101', periods=6)\n",
        "\n",
        "df = pd.DataFrame(np.random.randn(6, 4), index=dates, columns=list('ABCD'))\n",
        "df"
      ],
      "execution_count": 3,
      "outputs": [
        {
          "output_type": "execute_result",
          "data": {
            "text/html": [
              "<div>\n",
              "<style scoped>\n",
              "    .dataframe tbody tr th:only-of-type {\n",
              "        vertical-align: middle;\n",
              "    }\n",
              "\n",
              "    .dataframe tbody tr th {\n",
              "        vertical-align: top;\n",
              "    }\n",
              "\n",
              "    .dataframe thead th {\n",
              "        text-align: right;\n",
              "    }\n",
              "</style>\n",
              "<table border=\"1\" class=\"dataframe\">\n",
              "  <thead>\n",
              "    <tr style=\"text-align: right;\">\n",
              "      <th></th>\n",
              "      <th>A</th>\n",
              "      <th>B</th>\n",
              "      <th>C</th>\n",
              "      <th>D</th>\n",
              "    </tr>\n",
              "  </thead>\n",
              "  <tbody>\n",
              "    <tr>\n",
              "      <th>2020-11-01</th>\n",
              "      <td>1.223404</td>\n",
              "      <td>-1.199385</td>\n",
              "      <td>0.589860</td>\n",
              "      <td>-0.016113</td>\n",
              "    </tr>\n",
              "    <tr>\n",
              "      <th>2020-11-02</th>\n",
              "      <td>-0.107384</td>\n",
              "      <td>-1.286447</td>\n",
              "      <td>-0.914087</td>\n",
              "      <td>-1.218426</td>\n",
              "    </tr>\n",
              "    <tr>\n",
              "      <th>2020-11-03</th>\n",
              "      <td>-0.184900</td>\n",
              "      <td>-0.288995</td>\n",
              "      <td>-1.747820</td>\n",
              "      <td>0.897806</td>\n",
              "    </tr>\n",
              "    <tr>\n",
              "      <th>2020-11-04</th>\n",
              "      <td>1.465831</td>\n",
              "      <td>-1.172706</td>\n",
              "      <td>0.245932</td>\n",
              "      <td>-1.937194</td>\n",
              "    </tr>\n",
              "    <tr>\n",
              "      <th>2020-11-05</th>\n",
              "      <td>-0.418069</td>\n",
              "      <td>0.557697</td>\n",
              "      <td>1.245044</td>\n",
              "      <td>-0.268380</td>\n",
              "    </tr>\n",
              "    <tr>\n",
              "      <th>2020-11-06</th>\n",
              "      <td>-1.496519</td>\n",
              "      <td>-2.061205</td>\n",
              "      <td>-1.082509</td>\n",
              "      <td>0.598485</td>\n",
              "    </tr>\n",
              "  </tbody>\n",
              "</table>\n",
              "</div>"
            ],
            "text/plain": [
              "                   A         B         C         D\n",
              "2020-11-01  1.223404 -1.199385  0.589860 -0.016113\n",
              "2020-11-02 -0.107384 -1.286447 -0.914087 -1.218426\n",
              "2020-11-03 -0.184900 -0.288995 -1.747820  0.897806\n",
              "2020-11-04  1.465831 -1.172706  0.245932 -1.937194\n",
              "2020-11-05 -0.418069  0.557697  1.245044 -0.268380\n",
              "2020-11-06 -1.496519 -2.061205 -1.082509  0.598485"
            ]
          },
          "metadata": {
            "tags": []
          },
          "execution_count": 3
        }
      ]
    },
    {
      "cell_type": "markdown",
      "metadata": {
        "id": "hOpjqq-OJ5Ip"
      },
      "source": [
        "```\n",
        "產生pandas 物件\n",
        "```"
      ]
    },
    {
      "cell_type": "code",
      "metadata": {
        "id": "6YzRCTiaKFYG",
        "outputId": "2c149483-5071-44b5-ca23-10eb3bed74c3",
        "colab": {
          "base_uri": "https://localhost:8080/",
          "height": 173
        }
      },
      "source": [
        "df2 = pd.DataFrame({'A': 1.,\n",
        "           'B': pd.Timestamp('20201101'),\n",
        "           'C': pd.Series(1, index=list(range(4)), dtype='float32'),\n",
        "           'D': np.array([3] * 4, dtype='int32'),\n",
        "           'E': pd.Categorical([\"test\", \"train\", \"test\", \"train\"]),\n",
        "           'F': 'foo'})\n",
        "df2"
      ],
      "execution_count": 6,
      "outputs": [
        {
          "output_type": "execute_result",
          "data": {
            "text/html": [
              "<div>\n",
              "<style scoped>\n",
              "    .dataframe tbody tr th:only-of-type {\n",
              "        vertical-align: middle;\n",
              "    }\n",
              "\n",
              "    .dataframe tbody tr th {\n",
              "        vertical-align: top;\n",
              "    }\n",
              "\n",
              "    .dataframe thead th {\n",
              "        text-align: right;\n",
              "    }\n",
              "</style>\n",
              "<table border=\"1\" class=\"dataframe\">\n",
              "  <thead>\n",
              "    <tr style=\"text-align: right;\">\n",
              "      <th></th>\n",
              "      <th>A</th>\n",
              "      <th>B</th>\n",
              "      <th>C</th>\n",
              "      <th>D</th>\n",
              "      <th>E</th>\n",
              "      <th>F</th>\n",
              "    </tr>\n",
              "  </thead>\n",
              "  <tbody>\n",
              "    <tr>\n",
              "      <th>0</th>\n",
              "      <td>1.0</td>\n",
              "      <td>2020-11-01</td>\n",
              "      <td>1.0</td>\n",
              "      <td>3</td>\n",
              "      <td>test</td>\n",
              "      <td>foo</td>\n",
              "    </tr>\n",
              "    <tr>\n",
              "      <th>1</th>\n",
              "      <td>1.0</td>\n",
              "      <td>2020-11-01</td>\n",
              "      <td>1.0</td>\n",
              "      <td>3</td>\n",
              "      <td>train</td>\n",
              "      <td>foo</td>\n",
              "    </tr>\n",
              "    <tr>\n",
              "      <th>2</th>\n",
              "      <td>1.0</td>\n",
              "      <td>2020-11-01</td>\n",
              "      <td>1.0</td>\n",
              "      <td>3</td>\n",
              "      <td>test</td>\n",
              "      <td>foo</td>\n",
              "    </tr>\n",
              "    <tr>\n",
              "      <th>3</th>\n",
              "      <td>1.0</td>\n",
              "      <td>2020-11-01</td>\n",
              "      <td>1.0</td>\n",
              "      <td>3</td>\n",
              "      <td>train</td>\n",
              "      <td>foo</td>\n",
              "    </tr>\n",
              "  </tbody>\n",
              "</table>\n",
              "</div>"
            ],
            "text/plain": [
              "     A          B    C  D      E    F\n",
              "0  1.0 2020-11-01  1.0  3   test  foo\n",
              "1  1.0 2020-11-01  1.0  3  train  foo\n",
              "2  1.0 2020-11-01  1.0  3   test  foo\n",
              "3  1.0 2020-11-01  1.0  3  train  foo"
            ]
          },
          "metadata": {
            "tags": []
          },
          "execution_count": 6
        }
      ]
    },
    {
      "cell_type": "markdown",
      "metadata": {
        "id": "Fhbvt1EeLOws"
      },
      "source": [
        "顯示df2每一欄位的資料型態"
      ]
    },
    {
      "cell_type": "code",
      "metadata": {
        "id": "-YQkkkqjLXJV",
        "outputId": "7c8f7b22-7446-4518-a3d9-798e07a00309",
        "colab": {
          "base_uri": "https://localhost:8080/"
        }
      },
      "source": [
        "df2.dtypes"
      ],
      "execution_count": 8,
      "outputs": [
        {
          "output_type": "execute_result",
          "data": {
            "text/plain": [
              "A           float64\n",
              "B    datetime64[ns]\n",
              "C           float32\n",
              "D             int32\n",
              "E          category\n",
              "F            object\n",
              "dtype: object"
            ]
          },
          "metadata": {
            "tags": []
          },
          "execution_count": 8
        }
      ]
    },
    {
      "cell_type": "markdown",
      "metadata": {
        "id": "CQ_QQ34MLveB"
      },
      "source": [
        "顯示df的前三筆資料"
      ]
    },
    {
      "cell_type": "code",
      "metadata": {
        "id": "m8DlX3yqLzRY",
        "outputId": "d3e5fa05-5e90-4446-e070-2bb491ba3336",
        "colab": {
          "base_uri": "https://localhost:8080/",
          "height": 142
        }
      },
      "source": [
        "df.head(3)"
      ],
      "execution_count": 11,
      "outputs": [
        {
          "output_type": "execute_result",
          "data": {
            "text/html": [
              "<div>\n",
              "<style scoped>\n",
              "    .dataframe tbody tr th:only-of-type {\n",
              "        vertical-align: middle;\n",
              "    }\n",
              "\n",
              "    .dataframe tbody tr th {\n",
              "        vertical-align: top;\n",
              "    }\n",
              "\n",
              "    .dataframe thead th {\n",
              "        text-align: right;\n",
              "    }\n",
              "</style>\n",
              "<table border=\"1\" class=\"dataframe\">\n",
              "  <thead>\n",
              "    <tr style=\"text-align: right;\">\n",
              "      <th></th>\n",
              "      <th>A</th>\n",
              "      <th>B</th>\n",
              "      <th>C</th>\n",
              "      <th>D</th>\n",
              "    </tr>\n",
              "  </thead>\n",
              "  <tbody>\n",
              "    <tr>\n",
              "      <th>2020-11-01</th>\n",
              "      <td>1.223404</td>\n",
              "      <td>-1.199385</td>\n",
              "      <td>0.589860</td>\n",
              "      <td>-0.016113</td>\n",
              "    </tr>\n",
              "    <tr>\n",
              "      <th>2020-11-02</th>\n",
              "      <td>-0.107384</td>\n",
              "      <td>-1.286447</td>\n",
              "      <td>-0.914087</td>\n",
              "      <td>-1.218426</td>\n",
              "    </tr>\n",
              "    <tr>\n",
              "      <th>2020-11-03</th>\n",
              "      <td>-0.184900</td>\n",
              "      <td>-0.288995</td>\n",
              "      <td>-1.747820</td>\n",
              "      <td>0.897806</td>\n",
              "    </tr>\n",
              "  </tbody>\n",
              "</table>\n",
              "</div>"
            ],
            "text/plain": [
              "                   A         B         C         D\n",
              "2020-11-01  1.223404 -1.199385  0.589860 -0.016113\n",
              "2020-11-02 -0.107384 -1.286447 -0.914087 -1.218426\n",
              "2020-11-03 -0.184900 -0.288995 -1.747820  0.897806"
            ]
          },
          "metadata": {
            "tags": []
          },
          "execution_count": 11
        }
      ]
    },
    {
      "cell_type": "markdown",
      "metadata": {
        "id": "kTVk5yEYL_a4"
      },
      "source": [
        "顯示df的後三筆資料"
      ]
    },
    {
      "cell_type": "code",
      "metadata": {
        "id": "kMx2jZY5MB9z",
        "outputId": "29fd32ca-c8a1-49d5-a971-669e2cd0a414",
        "colab": {
          "base_uri": "https://localhost:8080/",
          "height": 142
        }
      },
      "source": [
        "df.tail(3)"
      ],
      "execution_count": 12,
      "outputs": [
        {
          "output_type": "execute_result",
          "data": {
            "text/html": [
              "<div>\n",
              "<style scoped>\n",
              "    .dataframe tbody tr th:only-of-type {\n",
              "        vertical-align: middle;\n",
              "    }\n",
              "\n",
              "    .dataframe tbody tr th {\n",
              "        vertical-align: top;\n",
              "    }\n",
              "\n",
              "    .dataframe thead th {\n",
              "        text-align: right;\n",
              "    }\n",
              "</style>\n",
              "<table border=\"1\" class=\"dataframe\">\n",
              "  <thead>\n",
              "    <tr style=\"text-align: right;\">\n",
              "      <th></th>\n",
              "      <th>A</th>\n",
              "      <th>B</th>\n",
              "      <th>C</th>\n",
              "      <th>D</th>\n",
              "    </tr>\n",
              "  </thead>\n",
              "  <tbody>\n",
              "    <tr>\n",
              "      <th>2020-11-04</th>\n",
              "      <td>1.465831</td>\n",
              "      <td>-1.172706</td>\n",
              "      <td>0.245932</td>\n",
              "      <td>-1.937194</td>\n",
              "    </tr>\n",
              "    <tr>\n",
              "      <th>2020-11-05</th>\n",
              "      <td>-0.418069</td>\n",
              "      <td>0.557697</td>\n",
              "      <td>1.245044</td>\n",
              "      <td>-0.268380</td>\n",
              "    </tr>\n",
              "    <tr>\n",
              "      <th>2020-11-06</th>\n",
              "      <td>-1.496519</td>\n",
              "      <td>-2.061205</td>\n",
              "      <td>-1.082509</td>\n",
              "      <td>0.598485</td>\n",
              "    </tr>\n",
              "  </tbody>\n",
              "</table>\n",
              "</div>"
            ],
            "text/plain": [
              "                   A         B         C         D\n",
              "2020-11-04  1.465831 -1.172706  0.245932 -1.937194\n",
              "2020-11-05 -0.418069  0.557697  1.245044 -0.268380\n",
              "2020-11-06 -1.496519 -2.061205 -1.082509  0.598485"
            ]
          },
          "metadata": {
            "tags": []
          },
          "execution_count": 12
        }
      ]
    },
    {
      "cell_type": "markdown",
      "metadata": {
        "id": "FBja42rFMLJk"
      },
      "source": [
        "顯示df的索引"
      ]
    },
    {
      "cell_type": "code",
      "metadata": {
        "id": "mVONspVpMQtS",
        "outputId": "d0bd9148-6e9b-47df-c4fc-9efce237d35a",
        "colab": {
          "base_uri": "https://localhost:8080/"
        }
      },
      "source": [
        "df.index"
      ],
      "execution_count": 13,
      "outputs": [
        {
          "output_type": "execute_result",
          "data": {
            "text/plain": [
              "DatetimeIndex(['2020-11-01', '2020-11-02', '2020-11-03', '2020-11-04',\n",
              "               '2020-11-05', '2020-11-06'],\n",
              "              dtype='datetime64[ns]', freq='D')"
            ]
          },
          "metadata": {
            "tags": []
          },
          "execution_count": 13
        }
      ]
    },
    {
      "cell_type": "markdown",
      "metadata": {
        "id": "a66zbYZCMVb1"
      },
      "source": [
        "顯示df的欄位"
      ]
    },
    {
      "cell_type": "code",
      "metadata": {
        "id": "sjqVc08PMaI5",
        "outputId": "1eaa7d00-b262-48ef-aadb-acd338021df9",
        "colab": {
          "base_uri": "https://localhost:8080/"
        }
      },
      "source": [
        "df.columns"
      ],
      "execution_count": 14,
      "outputs": [
        {
          "output_type": "execute_result",
          "data": {
            "text/plain": [
              "Index(['A', 'B', 'C', 'D'], dtype='object')"
            ]
          },
          "metadata": {
            "tags": []
          },
          "execution_count": 14
        }
      ]
    },
    {
      "cell_type": "markdown",
      "metadata": {
        "id": "wU3uLoBlM3Xg"
      },
      "source": [
        "df資料以numpy array形式顯示 "
      ]
    },
    {
      "cell_type": "code",
      "metadata": {
        "id": "2B4F8s_QMxh-",
        "outputId": "a9cfd35d-878a-485e-9bb4-20bb9707f44b",
        "colab": {
          "base_uri": "https://localhost:8080/"
        }
      },
      "source": [
        "df.to_numpy()"
      ],
      "execution_count": 15,
      "outputs": [
        {
          "output_type": "execute_result",
          "data": {
            "text/plain": [
              "array([[ 1.22340432, -1.19938473,  0.58986004, -0.0161133 ],\n",
              "       [-0.10738354, -1.28644674, -0.91408719, -1.21842568],\n",
              "       [-0.18490048, -0.28899456, -1.74781973,  0.89780641],\n",
              "       [ 1.46583103, -1.17270565,  0.24593218, -1.93719365],\n",
              "       [-0.41806891,  0.55769692,  1.24504446, -0.26838003],\n",
              "       [-1.49651867, -2.06120508, -1.08250865,  0.59848487]])"
            ]
          },
          "metadata": {
            "tags": []
          },
          "execution_count": 15
        }
      ]
    },
    {
      "cell_type": "markdown",
      "metadata": {
        "id": "R8Ja1caQNFGm"
      },
      "source": [
        "顯示df統計學結果"
      ]
    },
    {
      "cell_type": "code",
      "metadata": {
        "id": "07seQds4NRlK",
        "outputId": "af07f6c8-478c-45a6-a060-2a5cb1738b8d",
        "colab": {
          "base_uri": "https://localhost:8080/",
          "height": 297
        }
      },
      "source": [
        "df.describe()"
      ],
      "execution_count": 16,
      "outputs": [
        {
          "output_type": "execute_result",
          "data": {
            "text/html": [
              "<div>\n",
              "<style scoped>\n",
              "    .dataframe tbody tr th:only-of-type {\n",
              "        vertical-align: middle;\n",
              "    }\n",
              "\n",
              "    .dataframe tbody tr th {\n",
              "        vertical-align: top;\n",
              "    }\n",
              "\n",
              "    .dataframe thead th {\n",
              "        text-align: right;\n",
              "    }\n",
              "</style>\n",
              "<table border=\"1\" class=\"dataframe\">\n",
              "  <thead>\n",
              "    <tr style=\"text-align: right;\">\n",
              "      <th></th>\n",
              "      <th>A</th>\n",
              "      <th>B</th>\n",
              "      <th>C</th>\n",
              "      <th>D</th>\n",
              "    </tr>\n",
              "  </thead>\n",
              "  <tbody>\n",
              "    <tr>\n",
              "      <th>count</th>\n",
              "      <td>6.000000</td>\n",
              "      <td>6.000000</td>\n",
              "      <td>6.000000</td>\n",
              "      <td>6.000000</td>\n",
              "    </tr>\n",
              "    <tr>\n",
              "      <th>mean</th>\n",
              "      <td>0.080394</td>\n",
              "      <td>-0.908507</td>\n",
              "      <td>-0.277263</td>\n",
              "      <td>-0.323970</td>\n",
              "    </tr>\n",
              "    <tr>\n",
              "      <th>std</th>\n",
              "      <td>1.101514</td>\n",
              "      <td>0.912087</td>\n",
              "      <td>1.145387</td>\n",
              "      <td>1.081117</td>\n",
              "    </tr>\n",
              "    <tr>\n",
              "      <th>min</th>\n",
              "      <td>-1.496519</td>\n",
              "      <td>-2.061205</td>\n",
              "      <td>-1.747820</td>\n",
              "      <td>-1.937194</td>\n",
              "    </tr>\n",
              "    <tr>\n",
              "      <th>25%</th>\n",
              "      <td>-0.359777</td>\n",
              "      <td>-1.264681</td>\n",
              "      <td>-1.040403</td>\n",
              "      <td>-0.980914</td>\n",
              "    </tr>\n",
              "    <tr>\n",
              "      <th>50%</th>\n",
              "      <td>-0.146142</td>\n",
              "      <td>-1.186045</td>\n",
              "      <td>-0.334078</td>\n",
              "      <td>-0.142247</td>\n",
              "    </tr>\n",
              "    <tr>\n",
              "      <th>75%</th>\n",
              "      <td>0.890707</td>\n",
              "      <td>-0.509922</td>\n",
              "      <td>0.503878</td>\n",
              "      <td>0.444835</td>\n",
              "    </tr>\n",
              "    <tr>\n",
              "      <th>max</th>\n",
              "      <td>1.465831</td>\n",
              "      <td>0.557697</td>\n",
              "      <td>1.245044</td>\n",
              "      <td>0.897806</td>\n",
              "    </tr>\n",
              "  </tbody>\n",
              "</table>\n",
              "</div>"
            ],
            "text/plain": [
              "              A         B         C         D\n",
              "count  6.000000  6.000000  6.000000  6.000000\n",
              "mean   0.080394 -0.908507 -0.277263 -0.323970\n",
              "std    1.101514  0.912087  1.145387  1.081117\n",
              "min   -1.496519 -2.061205 -1.747820 -1.937194\n",
              "25%   -0.359777 -1.264681 -1.040403 -0.980914\n",
              "50%   -0.146142 -1.186045 -0.334078 -0.142247\n",
              "75%    0.890707 -0.509922  0.503878  0.444835\n",
              "max    1.465831  0.557697  1.245044  0.897806"
            ]
          },
          "metadata": {
            "tags": []
          },
          "execution_count": 16
        }
      ]
    },
    {
      "cell_type": "markdown",
      "metadata": {
        "id": "st8JbTKZNmuN"
      },
      "source": [
        "轉換df資料索引與欄位置"
      ]
    },
    {
      "cell_type": "code",
      "metadata": {
        "id": "VlXcjEWHNzC5",
        "outputId": "3da26cde-cc79-4d74-e34a-2efa36788b80",
        "colab": {
          "base_uri": "https://localhost:8080/",
          "height": 173
        }
      },
      "source": [
        "df.T"
      ],
      "execution_count": 17,
      "outputs": [
        {
          "output_type": "execute_result",
          "data": {
            "text/html": [
              "<div>\n",
              "<style scoped>\n",
              "    .dataframe tbody tr th:only-of-type {\n",
              "        vertical-align: middle;\n",
              "    }\n",
              "\n",
              "    .dataframe tbody tr th {\n",
              "        vertical-align: top;\n",
              "    }\n",
              "\n",
              "    .dataframe thead th {\n",
              "        text-align: right;\n",
              "    }\n",
              "</style>\n",
              "<table border=\"1\" class=\"dataframe\">\n",
              "  <thead>\n",
              "    <tr style=\"text-align: right;\">\n",
              "      <th></th>\n",
              "      <th>2020-11-01</th>\n",
              "      <th>2020-11-02</th>\n",
              "      <th>2020-11-03</th>\n",
              "      <th>2020-11-04</th>\n",
              "      <th>2020-11-05</th>\n",
              "      <th>2020-11-06</th>\n",
              "    </tr>\n",
              "  </thead>\n",
              "  <tbody>\n",
              "    <tr>\n",
              "      <th>A</th>\n",
              "      <td>1.223404</td>\n",
              "      <td>-0.107384</td>\n",
              "      <td>-0.184900</td>\n",
              "      <td>1.465831</td>\n",
              "      <td>-0.418069</td>\n",
              "      <td>-1.496519</td>\n",
              "    </tr>\n",
              "    <tr>\n",
              "      <th>B</th>\n",
              "      <td>-1.199385</td>\n",
              "      <td>-1.286447</td>\n",
              "      <td>-0.288995</td>\n",
              "      <td>-1.172706</td>\n",
              "      <td>0.557697</td>\n",
              "      <td>-2.061205</td>\n",
              "    </tr>\n",
              "    <tr>\n",
              "      <th>C</th>\n",
              "      <td>0.589860</td>\n",
              "      <td>-0.914087</td>\n",
              "      <td>-1.747820</td>\n",
              "      <td>0.245932</td>\n",
              "      <td>1.245044</td>\n",
              "      <td>-1.082509</td>\n",
              "    </tr>\n",
              "    <tr>\n",
              "      <th>D</th>\n",
              "      <td>-0.016113</td>\n",
              "      <td>-1.218426</td>\n",
              "      <td>0.897806</td>\n",
              "      <td>-1.937194</td>\n",
              "      <td>-0.268380</td>\n",
              "      <td>0.598485</td>\n",
              "    </tr>\n",
              "  </tbody>\n",
              "</table>\n",
              "</div>"
            ],
            "text/plain": [
              "   2020-11-01  2020-11-02  2020-11-03  2020-11-04  2020-11-05  2020-11-06\n",
              "A    1.223404   -0.107384   -0.184900    1.465831   -0.418069   -1.496519\n",
              "B   -1.199385   -1.286447   -0.288995   -1.172706    0.557697   -2.061205\n",
              "C    0.589860   -0.914087   -1.747820    0.245932    1.245044   -1.082509\n",
              "D   -0.016113   -1.218426    0.897806   -1.937194   -0.268380    0.598485"
            ]
          },
          "metadata": {
            "tags": []
          },
          "execution_count": 17
        }
      ]
    },
    {
      "cell_type": "markdown",
      "metadata": {
        "id": "jZB25ymbN25R"
      },
      "source": [
        "將df欄位逆排序"
      ]
    },
    {
      "cell_type": "code",
      "metadata": {
        "id": "1RXN2rvYPC5d",
        "outputId": "82ff1813-3fc3-478c-9c9a-b2018fcaa45e",
        "colab": {
          "base_uri": "https://localhost:8080/",
          "height": 235
        }
      },
      "source": [
        "df.sort_index(axis=1, ascending=False)"
      ],
      "execution_count": 18,
      "outputs": [
        {
          "output_type": "execute_result",
          "data": {
            "text/html": [
              "<div>\n",
              "<style scoped>\n",
              "    .dataframe tbody tr th:only-of-type {\n",
              "        vertical-align: middle;\n",
              "    }\n",
              "\n",
              "    .dataframe tbody tr th {\n",
              "        vertical-align: top;\n",
              "    }\n",
              "\n",
              "    .dataframe thead th {\n",
              "        text-align: right;\n",
              "    }\n",
              "</style>\n",
              "<table border=\"1\" class=\"dataframe\">\n",
              "  <thead>\n",
              "    <tr style=\"text-align: right;\">\n",
              "      <th></th>\n",
              "      <th>D</th>\n",
              "      <th>C</th>\n",
              "      <th>B</th>\n",
              "      <th>A</th>\n",
              "    </tr>\n",
              "  </thead>\n",
              "  <tbody>\n",
              "    <tr>\n",
              "      <th>2020-11-01</th>\n",
              "      <td>-0.016113</td>\n",
              "      <td>0.589860</td>\n",
              "      <td>-1.199385</td>\n",
              "      <td>1.223404</td>\n",
              "    </tr>\n",
              "    <tr>\n",
              "      <th>2020-11-02</th>\n",
              "      <td>-1.218426</td>\n",
              "      <td>-0.914087</td>\n",
              "      <td>-1.286447</td>\n",
              "      <td>-0.107384</td>\n",
              "    </tr>\n",
              "    <tr>\n",
              "      <th>2020-11-03</th>\n",
              "      <td>0.897806</td>\n",
              "      <td>-1.747820</td>\n",
              "      <td>-0.288995</td>\n",
              "      <td>-0.184900</td>\n",
              "    </tr>\n",
              "    <tr>\n",
              "      <th>2020-11-04</th>\n",
              "      <td>-1.937194</td>\n",
              "      <td>0.245932</td>\n",
              "      <td>-1.172706</td>\n",
              "      <td>1.465831</td>\n",
              "    </tr>\n",
              "    <tr>\n",
              "      <th>2020-11-05</th>\n",
              "      <td>-0.268380</td>\n",
              "      <td>1.245044</td>\n",
              "      <td>0.557697</td>\n",
              "      <td>-0.418069</td>\n",
              "    </tr>\n",
              "    <tr>\n",
              "      <th>2020-11-06</th>\n",
              "      <td>0.598485</td>\n",
              "      <td>-1.082509</td>\n",
              "      <td>-2.061205</td>\n",
              "      <td>-1.496519</td>\n",
              "    </tr>\n",
              "  </tbody>\n",
              "</table>\n",
              "</div>"
            ],
            "text/plain": [
              "                   D         C         B         A\n",
              "2020-11-01 -0.016113  0.589860 -1.199385  1.223404\n",
              "2020-11-02 -1.218426 -0.914087 -1.286447 -0.107384\n",
              "2020-11-03  0.897806 -1.747820 -0.288995 -0.184900\n",
              "2020-11-04 -1.937194  0.245932 -1.172706  1.465831\n",
              "2020-11-05 -0.268380  1.245044  0.557697 -0.418069\n",
              "2020-11-06  0.598485 -1.082509 -2.061205 -1.496519"
            ]
          },
          "metadata": {
            "tags": []
          },
          "execution_count": 18
        }
      ]
    },
    {
      "cell_type": "markdown",
      "metadata": {
        "id": "1HkrztjZPTrA"
      },
      "source": [
        "將df索引逆排序"
      ]
    },
    {
      "cell_type": "code",
      "metadata": {
        "id": "QtujSxVhPXac",
        "outputId": "93dd71e2-caec-457c-dab7-242b86629f19",
        "colab": {
          "base_uri": "https://localhost:8080/",
          "height": 235
        }
      },
      "source": [
        "df.sort_index(axis=0, ascending=False)"
      ],
      "execution_count": 19,
      "outputs": [
        {
          "output_type": "execute_result",
          "data": {
            "text/html": [
              "<div>\n",
              "<style scoped>\n",
              "    .dataframe tbody tr th:only-of-type {\n",
              "        vertical-align: middle;\n",
              "    }\n",
              "\n",
              "    .dataframe tbody tr th {\n",
              "        vertical-align: top;\n",
              "    }\n",
              "\n",
              "    .dataframe thead th {\n",
              "        text-align: right;\n",
              "    }\n",
              "</style>\n",
              "<table border=\"1\" class=\"dataframe\">\n",
              "  <thead>\n",
              "    <tr style=\"text-align: right;\">\n",
              "      <th></th>\n",
              "      <th>A</th>\n",
              "      <th>B</th>\n",
              "      <th>C</th>\n",
              "      <th>D</th>\n",
              "    </tr>\n",
              "  </thead>\n",
              "  <tbody>\n",
              "    <tr>\n",
              "      <th>2020-11-06</th>\n",
              "      <td>-1.496519</td>\n",
              "      <td>-2.061205</td>\n",
              "      <td>-1.082509</td>\n",
              "      <td>0.598485</td>\n",
              "    </tr>\n",
              "    <tr>\n",
              "      <th>2020-11-05</th>\n",
              "      <td>-0.418069</td>\n",
              "      <td>0.557697</td>\n",
              "      <td>1.245044</td>\n",
              "      <td>-0.268380</td>\n",
              "    </tr>\n",
              "    <tr>\n",
              "      <th>2020-11-04</th>\n",
              "      <td>1.465831</td>\n",
              "      <td>-1.172706</td>\n",
              "      <td>0.245932</td>\n",
              "      <td>-1.937194</td>\n",
              "    </tr>\n",
              "    <tr>\n",
              "      <th>2020-11-03</th>\n",
              "      <td>-0.184900</td>\n",
              "      <td>-0.288995</td>\n",
              "      <td>-1.747820</td>\n",
              "      <td>0.897806</td>\n",
              "    </tr>\n",
              "    <tr>\n",
              "      <th>2020-11-02</th>\n",
              "      <td>-0.107384</td>\n",
              "      <td>-1.286447</td>\n",
              "      <td>-0.914087</td>\n",
              "      <td>-1.218426</td>\n",
              "    </tr>\n",
              "    <tr>\n",
              "      <th>2020-11-01</th>\n",
              "      <td>1.223404</td>\n",
              "      <td>-1.199385</td>\n",
              "      <td>0.589860</td>\n",
              "      <td>-0.016113</td>\n",
              "    </tr>\n",
              "  </tbody>\n",
              "</table>\n",
              "</div>"
            ],
            "text/plain": [
              "                   A         B         C         D\n",
              "2020-11-06 -1.496519 -2.061205 -1.082509  0.598485\n",
              "2020-11-05 -0.418069  0.557697  1.245044 -0.268380\n",
              "2020-11-04  1.465831 -1.172706  0.245932 -1.937194\n",
              "2020-11-03 -0.184900 -0.288995 -1.747820  0.897806\n",
              "2020-11-02 -0.107384 -1.286447 -0.914087 -1.218426\n",
              "2020-11-01  1.223404 -1.199385  0.589860 -0.016113"
            ]
          },
          "metadata": {
            "tags": []
          },
          "execution_count": 19
        }
      ]
    },
    {
      "cell_type": "markdown",
      "metadata": {
        "id": "_0Vtv9dbPawa"
      },
      "source": [
        "依據C欄位從小排到大"
      ]
    },
    {
      "cell_type": "code",
      "metadata": {
        "id": "4DV14yvQQ7vn",
        "outputId": "e0d4c70f-e3fb-4431-ff54-034eaec3b62d",
        "colab": {
          "base_uri": "https://localhost:8080/",
          "height": 235
        }
      },
      "source": [
        "df.sort_values(by='C')"
      ],
      "execution_count": 20,
      "outputs": [
        {
          "output_type": "execute_result",
          "data": {
            "text/html": [
              "<div>\n",
              "<style scoped>\n",
              "    .dataframe tbody tr th:only-of-type {\n",
              "        vertical-align: middle;\n",
              "    }\n",
              "\n",
              "    .dataframe tbody tr th {\n",
              "        vertical-align: top;\n",
              "    }\n",
              "\n",
              "    .dataframe thead th {\n",
              "        text-align: right;\n",
              "    }\n",
              "</style>\n",
              "<table border=\"1\" class=\"dataframe\">\n",
              "  <thead>\n",
              "    <tr style=\"text-align: right;\">\n",
              "      <th></th>\n",
              "      <th>A</th>\n",
              "      <th>B</th>\n",
              "      <th>C</th>\n",
              "      <th>D</th>\n",
              "    </tr>\n",
              "  </thead>\n",
              "  <tbody>\n",
              "    <tr>\n",
              "      <th>2020-11-03</th>\n",
              "      <td>-0.184900</td>\n",
              "      <td>-0.288995</td>\n",
              "      <td>-1.747820</td>\n",
              "      <td>0.897806</td>\n",
              "    </tr>\n",
              "    <tr>\n",
              "      <th>2020-11-06</th>\n",
              "      <td>-1.496519</td>\n",
              "      <td>-2.061205</td>\n",
              "      <td>-1.082509</td>\n",
              "      <td>0.598485</td>\n",
              "    </tr>\n",
              "    <tr>\n",
              "      <th>2020-11-02</th>\n",
              "      <td>-0.107384</td>\n",
              "      <td>-1.286447</td>\n",
              "      <td>-0.914087</td>\n",
              "      <td>-1.218426</td>\n",
              "    </tr>\n",
              "    <tr>\n",
              "      <th>2020-11-04</th>\n",
              "      <td>1.465831</td>\n",
              "      <td>-1.172706</td>\n",
              "      <td>0.245932</td>\n",
              "      <td>-1.937194</td>\n",
              "    </tr>\n",
              "    <tr>\n",
              "      <th>2020-11-01</th>\n",
              "      <td>1.223404</td>\n",
              "      <td>-1.199385</td>\n",
              "      <td>0.589860</td>\n",
              "      <td>-0.016113</td>\n",
              "    </tr>\n",
              "    <tr>\n",
              "      <th>2020-11-05</th>\n",
              "      <td>-0.418069</td>\n",
              "      <td>0.557697</td>\n",
              "      <td>1.245044</td>\n",
              "      <td>-0.268380</td>\n",
              "    </tr>\n",
              "  </tbody>\n",
              "</table>\n",
              "</div>"
            ],
            "text/plain": [
              "                   A         B         C         D\n",
              "2020-11-03 -0.184900 -0.288995 -1.747820  0.897806\n",
              "2020-11-06 -1.496519 -2.061205 -1.082509  0.598485\n",
              "2020-11-02 -0.107384 -1.286447 -0.914087 -1.218426\n",
              "2020-11-04  1.465831 -1.172706  0.245932 -1.937194\n",
              "2020-11-01  1.223404 -1.199385  0.589860 -0.016113\n",
              "2020-11-05 -0.418069  0.557697  1.245044 -0.268380"
            ]
          },
          "metadata": {
            "tags": []
          },
          "execution_count": 20
        }
      ]
    },
    {
      "cell_type": "markdown",
      "metadata": {
        "id": "aWBifSFLRO8T"
      },
      "source": [
        "挑出D欄位所有資料"
      ]
    },
    {
      "cell_type": "code",
      "metadata": {
        "id": "gW2AbhzbRUGJ",
        "outputId": "b1bc2032-7877-4e70-b935-9c8e0f3f6229",
        "colab": {
          "base_uri": "https://localhost:8080/"
        }
      },
      "source": [
        "df['D']"
      ],
      "execution_count": 21,
      "outputs": [
        {
          "output_type": "execute_result",
          "data": {
            "text/plain": [
              "2020-11-01   -0.016113\n",
              "2020-11-02   -1.218426\n",
              "2020-11-03    0.897806\n",
              "2020-11-04   -1.937194\n",
              "2020-11-05   -0.268380\n",
              "2020-11-06    0.598485\n",
              "Freq: D, Name: D, dtype: float64"
            ]
          },
          "metadata": {
            "tags": []
          },
          "execution_count": 21
        }
      ]
    },
    {
      "cell_type": "markdown",
      "metadata": {
        "id": "68JRECLdRhEO"
      },
      "source": [
        "挑出前三筆所有資料"
      ]
    },
    {
      "cell_type": "code",
      "metadata": {
        "id": "KaYP78PtRz2K",
        "outputId": "f4b7ac59-3079-43a2-965d-399240e055b6",
        "colab": {
          "base_uri": "https://localhost:8080/",
          "height": 142
        }
      },
      "source": [
        "df[0:3]"
      ],
      "execution_count": 22,
      "outputs": [
        {
          "output_type": "execute_result",
          "data": {
            "text/html": [
              "<div>\n",
              "<style scoped>\n",
              "    .dataframe tbody tr th:only-of-type {\n",
              "        vertical-align: middle;\n",
              "    }\n",
              "\n",
              "    .dataframe tbody tr th {\n",
              "        vertical-align: top;\n",
              "    }\n",
              "\n",
              "    .dataframe thead th {\n",
              "        text-align: right;\n",
              "    }\n",
              "</style>\n",
              "<table border=\"1\" class=\"dataframe\">\n",
              "  <thead>\n",
              "    <tr style=\"text-align: right;\">\n",
              "      <th></th>\n",
              "      <th>A</th>\n",
              "      <th>B</th>\n",
              "      <th>C</th>\n",
              "      <th>D</th>\n",
              "    </tr>\n",
              "  </thead>\n",
              "  <tbody>\n",
              "    <tr>\n",
              "      <th>2020-11-01</th>\n",
              "      <td>1.223404</td>\n",
              "      <td>-1.199385</td>\n",
              "      <td>0.589860</td>\n",
              "      <td>-0.016113</td>\n",
              "    </tr>\n",
              "    <tr>\n",
              "      <th>2020-11-02</th>\n",
              "      <td>-0.107384</td>\n",
              "      <td>-1.286447</td>\n",
              "      <td>-0.914087</td>\n",
              "      <td>-1.218426</td>\n",
              "    </tr>\n",
              "    <tr>\n",
              "      <th>2020-11-03</th>\n",
              "      <td>-0.184900</td>\n",
              "      <td>-0.288995</td>\n",
              "      <td>-1.747820</td>\n",
              "      <td>0.897806</td>\n",
              "    </tr>\n",
              "  </tbody>\n",
              "</table>\n",
              "</div>"
            ],
            "text/plain": [
              "                   A         B         C         D\n",
              "2020-11-01  1.223404 -1.199385  0.589860 -0.016113\n",
              "2020-11-02 -0.107384 -1.286447 -0.914087 -1.218426\n",
              "2020-11-03 -0.184900 -0.288995 -1.747820  0.897806"
            ]
          },
          "metadata": {
            "tags": []
          },
          "execution_count": 22
        }
      ]
    },
    {
      "cell_type": "markdown",
      "metadata": {
        "id": "O_9cVlFMR2eI"
      },
      "source": [
        "挑出20201103到20201105所有資料"
      ]
    },
    {
      "cell_type": "code",
      "metadata": {
        "id": "SzjoLJy9R9ld",
        "outputId": "76690e25-1ff5-44ff-8eaf-c88323629a02",
        "colab": {
          "base_uri": "https://localhost:8080/",
          "height": 142
        }
      },
      "source": [
        "df['20201103':'20201105']"
      ],
      "execution_count": 23,
      "outputs": [
        {
          "output_type": "execute_result",
          "data": {
            "text/html": [
              "<div>\n",
              "<style scoped>\n",
              "    .dataframe tbody tr th:only-of-type {\n",
              "        vertical-align: middle;\n",
              "    }\n",
              "\n",
              "    .dataframe tbody tr th {\n",
              "        vertical-align: top;\n",
              "    }\n",
              "\n",
              "    .dataframe thead th {\n",
              "        text-align: right;\n",
              "    }\n",
              "</style>\n",
              "<table border=\"1\" class=\"dataframe\">\n",
              "  <thead>\n",
              "    <tr style=\"text-align: right;\">\n",
              "      <th></th>\n",
              "      <th>A</th>\n",
              "      <th>B</th>\n",
              "      <th>C</th>\n",
              "      <th>D</th>\n",
              "    </tr>\n",
              "  </thead>\n",
              "  <tbody>\n",
              "    <tr>\n",
              "      <th>2020-11-03</th>\n",
              "      <td>-0.184900</td>\n",
              "      <td>-0.288995</td>\n",
              "      <td>-1.747820</td>\n",
              "      <td>0.897806</td>\n",
              "    </tr>\n",
              "    <tr>\n",
              "      <th>2020-11-04</th>\n",
              "      <td>1.465831</td>\n",
              "      <td>-1.172706</td>\n",
              "      <td>0.245932</td>\n",
              "      <td>-1.937194</td>\n",
              "    </tr>\n",
              "    <tr>\n",
              "      <th>2020-11-05</th>\n",
              "      <td>-0.418069</td>\n",
              "      <td>0.557697</td>\n",
              "      <td>1.245044</td>\n",
              "      <td>-0.268380</td>\n",
              "    </tr>\n",
              "  </tbody>\n",
              "</table>\n",
              "</div>"
            ],
            "text/plain": [
              "                   A         B         C         D\n",
              "2020-11-03 -0.184900 -0.288995 -1.747820  0.897806\n",
              "2020-11-04  1.465831 -1.172706  0.245932 -1.937194\n",
              "2020-11-05 -0.418069  0.557697  1.245044 -0.268380"
            ]
          },
          "metadata": {
            "tags": []
          },
          "execution_count": 23
        }
      ]
    },
    {
      "cell_type": "markdown",
      "metadata": {
        "id": "FJdJVECMSKQD"
      },
      "source": [
        "挑出第一筆資料"
      ]
    },
    {
      "cell_type": "code",
      "metadata": {
        "id": "d8NL8PmgSOi1",
        "outputId": "a09cb552-1013-4dbb-da64-500dcda1efb7",
        "colab": {
          "base_uri": "https://localhost:8080/"
        }
      },
      "source": [
        "df.loc[dates[0]]"
      ],
      "execution_count": 24,
      "outputs": [
        {
          "output_type": "execute_result",
          "data": {
            "text/plain": [
              "A    1.223404\n",
              "B   -1.199385\n",
              "C    0.589860\n",
              "D   -0.016113\n",
              "Name: 2020-11-01 00:00:00, dtype: float64"
            ]
          },
          "metadata": {
            "tags": []
          },
          "execution_count": 24
        }
      ]
    },
    {
      "cell_type": "code",
      "metadata": {
        "id": "3b5l02YMSf5C",
        "outputId": "9713e72d-66f5-4ee6-d2b5-9366a0dee5fa",
        "colab": {
          "base_uri": "https://localhost:8080/",
          "height": 80
        }
      },
      "source": [
        "df[:1]"
      ],
      "execution_count": 26,
      "outputs": [
        {
          "output_type": "execute_result",
          "data": {
            "text/html": [
              "<div>\n",
              "<style scoped>\n",
              "    .dataframe tbody tr th:only-of-type {\n",
              "        vertical-align: middle;\n",
              "    }\n",
              "\n",
              "    .dataframe tbody tr th {\n",
              "        vertical-align: top;\n",
              "    }\n",
              "\n",
              "    .dataframe thead th {\n",
              "        text-align: right;\n",
              "    }\n",
              "</style>\n",
              "<table border=\"1\" class=\"dataframe\">\n",
              "  <thead>\n",
              "    <tr style=\"text-align: right;\">\n",
              "      <th></th>\n",
              "      <th>A</th>\n",
              "      <th>B</th>\n",
              "      <th>C</th>\n",
              "      <th>D</th>\n",
              "    </tr>\n",
              "  </thead>\n",
              "  <tbody>\n",
              "    <tr>\n",
              "      <th>2020-11-01</th>\n",
              "      <td>1.223404</td>\n",
              "      <td>-1.199385</td>\n",
              "      <td>0.58986</td>\n",
              "      <td>-0.016113</td>\n",
              "    </tr>\n",
              "  </tbody>\n",
              "</table>\n",
              "</div>"
            ],
            "text/plain": [
              "                   A         B        C         D\n",
              "2020-11-01  1.223404 -1.199385  0.58986 -0.016113"
            ]
          },
          "metadata": {
            "tags": []
          },
          "execution_count": 26
        }
      ]
    },
    {
      "cell_type": "markdown",
      "metadata": {
        "id": "LiIPodymSqrl"
      },
      "source": [
        "挑出B,D欄位資料"
      ]
    },
    {
      "cell_type": "code",
      "metadata": {
        "id": "xaerKvmdS2wK",
        "outputId": "488a7405-9fac-4b76-9176-d7a45ccdb199",
        "colab": {
          "base_uri": "https://localhost:8080/",
          "height": 235
        }
      },
      "source": [
        "df.loc[:, ['B', 'D']]"
      ],
      "execution_count": 27,
      "outputs": [
        {
          "output_type": "execute_result",
          "data": {
            "text/html": [
              "<div>\n",
              "<style scoped>\n",
              "    .dataframe tbody tr th:only-of-type {\n",
              "        vertical-align: middle;\n",
              "    }\n",
              "\n",
              "    .dataframe tbody tr th {\n",
              "        vertical-align: top;\n",
              "    }\n",
              "\n",
              "    .dataframe thead th {\n",
              "        text-align: right;\n",
              "    }\n",
              "</style>\n",
              "<table border=\"1\" class=\"dataframe\">\n",
              "  <thead>\n",
              "    <tr style=\"text-align: right;\">\n",
              "      <th></th>\n",
              "      <th>B</th>\n",
              "      <th>D</th>\n",
              "    </tr>\n",
              "  </thead>\n",
              "  <tbody>\n",
              "    <tr>\n",
              "      <th>2020-11-01</th>\n",
              "      <td>-1.199385</td>\n",
              "      <td>-0.016113</td>\n",
              "    </tr>\n",
              "    <tr>\n",
              "      <th>2020-11-02</th>\n",
              "      <td>-1.286447</td>\n",
              "      <td>-1.218426</td>\n",
              "    </tr>\n",
              "    <tr>\n",
              "      <th>2020-11-03</th>\n",
              "      <td>-0.288995</td>\n",
              "      <td>0.897806</td>\n",
              "    </tr>\n",
              "    <tr>\n",
              "      <th>2020-11-04</th>\n",
              "      <td>-1.172706</td>\n",
              "      <td>-1.937194</td>\n",
              "    </tr>\n",
              "    <tr>\n",
              "      <th>2020-11-05</th>\n",
              "      <td>0.557697</td>\n",
              "      <td>-0.268380</td>\n",
              "    </tr>\n",
              "    <tr>\n",
              "      <th>2020-11-06</th>\n",
              "      <td>-2.061205</td>\n",
              "      <td>0.598485</td>\n",
              "    </tr>\n",
              "  </tbody>\n",
              "</table>\n",
              "</div>"
            ],
            "text/plain": [
              "                   B         D\n",
              "2020-11-01 -1.199385 -0.016113\n",
              "2020-11-02 -1.286447 -1.218426\n",
              "2020-11-03 -0.288995  0.897806\n",
              "2020-11-04 -1.172706 -1.937194\n",
              "2020-11-05  0.557697 -0.268380\n",
              "2020-11-06 -2.061205  0.598485"
            ]
          },
          "metadata": {
            "tags": []
          },
          "execution_count": 27
        }
      ]
    },
    {
      "cell_type": "markdown",
      "metadata": {
        "id": "x2C0cYxJS58F"
      },
      "source": [
        "挑出第3到5筆的B,D欄位資料"
      ]
    },
    {
      "cell_type": "code",
      "metadata": {
        "id": "pkjcwWyiTKJ-",
        "outputId": "a10d7173-0805-4d5d-eebe-317ba1589457",
        "colab": {
          "base_uri": "https://localhost:8080/",
          "height": 142
        }
      },
      "source": [
        "df.loc['20201103':'20201105', ['B', 'D']]"
      ],
      "execution_count": 28,
      "outputs": [
        {
          "output_type": "execute_result",
          "data": {
            "text/html": [
              "<div>\n",
              "<style scoped>\n",
              "    .dataframe tbody tr th:only-of-type {\n",
              "        vertical-align: middle;\n",
              "    }\n",
              "\n",
              "    .dataframe tbody tr th {\n",
              "        vertical-align: top;\n",
              "    }\n",
              "\n",
              "    .dataframe thead th {\n",
              "        text-align: right;\n",
              "    }\n",
              "</style>\n",
              "<table border=\"1\" class=\"dataframe\">\n",
              "  <thead>\n",
              "    <tr style=\"text-align: right;\">\n",
              "      <th></th>\n",
              "      <th>B</th>\n",
              "      <th>D</th>\n",
              "    </tr>\n",
              "  </thead>\n",
              "  <tbody>\n",
              "    <tr>\n",
              "      <th>2020-11-03</th>\n",
              "      <td>-0.288995</td>\n",
              "      <td>0.897806</td>\n",
              "    </tr>\n",
              "    <tr>\n",
              "      <th>2020-11-04</th>\n",
              "      <td>-1.172706</td>\n",
              "      <td>-1.937194</td>\n",
              "    </tr>\n",
              "    <tr>\n",
              "      <th>2020-11-05</th>\n",
              "      <td>0.557697</td>\n",
              "      <td>-0.268380</td>\n",
              "    </tr>\n",
              "  </tbody>\n",
              "</table>\n",
              "</div>"
            ],
            "text/plain": [
              "                   B         D\n",
              "2020-11-03 -0.288995  0.897806\n",
              "2020-11-04 -1.172706 -1.937194\n",
              "2020-11-05  0.557697 -0.268380"
            ]
          },
          "metadata": {
            "tags": []
          },
          "execution_count": 28
        }
      ]
    },
    {
      "cell_type": "markdown",
      "metadata": {
        "id": "evZNUMbbTa5Y"
      },
      "source": [
        "挑出第6筆的A,D欄位資料"
      ]
    },
    {
      "cell_type": "code",
      "metadata": {
        "id": "1gg1jEMbTfoK",
        "outputId": "5fdc4e79-9dd1-4660-8ab2-d1aed1e37622",
        "colab": {
          "base_uri": "https://localhost:8080/"
        }
      },
      "source": [
        "df.loc['20201106', ['A', 'D']]"
      ],
      "execution_count": 29,
      "outputs": [
        {
          "output_type": "execute_result",
          "data": {
            "text/plain": [
              "A   -1.496519\n",
              "D    0.598485\n",
              "Name: 2020-11-06 00:00:00, dtype: float64"
            ]
          },
          "metadata": {
            "tags": []
          },
          "execution_count": 29
        }
      ]
    },
    {
      "cell_type": "markdown",
      "metadata": {
        "id": "hMXgF0aeTqoT"
      },
      "source": [
        "挑出第5筆的B欄位資料"
      ]
    },
    {
      "cell_type": "code",
      "metadata": {
        "id": "qcP5_me4T5UJ",
        "outputId": "383d5388-c7f0-499f-f464-01a23c8530fa",
        "colab": {
          "base_uri": "https://localhost:8080/"
        }
      },
      "source": [
        "df.loc[dates[4], 'B']"
      ],
      "execution_count": 30,
      "outputs": [
        {
          "output_type": "execute_result",
          "data": {
            "text/plain": [
              "0.5576969186846612"
            ]
          },
          "metadata": {
            "tags": []
          },
          "execution_count": 30
        }
      ]
    },
    {
      "cell_type": "code",
      "metadata": {
        "id": "z_MG1BVxUAiu",
        "outputId": "a0132606-27e9-4eb3-e33e-a4ada57db88c",
        "colab": {
          "base_uri": "https://localhost:8080/"
        }
      },
      "source": [
        "df.at[dates[4], 'B']"
      ],
      "execution_count": 31,
      "outputs": [
        {
          "output_type": "execute_result",
          "data": {
            "text/plain": [
              "0.5576969186846612"
            ]
          },
          "metadata": {
            "tags": []
          },
          "execution_count": 31
        }
      ]
    },
    {
      "cell_type": "markdown",
      "metadata": {
        "id": "t-TyIYfMUxC7"
      },
      "source": [
        "挑出第4筆資料不含索引"
      ]
    },
    {
      "cell_type": "code",
      "metadata": {
        "id": "MGQ07DMXUOP2",
        "outputId": "c9b9e25e-419d-4499-eda7-9e3d0259ef99",
        "colab": {
          "base_uri": "https://localhost:8080/"
        }
      },
      "source": [
        "df.iloc[3]"
      ],
      "execution_count": 32,
      "outputs": [
        {
          "output_type": "execute_result",
          "data": {
            "text/plain": [
              "A    1.465831\n",
              "B   -1.172706\n",
              "C    0.245932\n",
              "D   -1.937194\n",
              "Name: 2020-11-04 00:00:00, dtype: float64"
            ]
          },
          "metadata": {
            "tags": []
          },
          "execution_count": 32
        }
      ]
    },
    {
      "cell_type": "code",
      "metadata": {
        "id": "edA5MA9aUsPI",
        "outputId": "90a182ca-3729-4a3b-9674-178be5a43032",
        "colab": {
          "base_uri": "https://localhost:8080/"
        }
      },
      "source": [
        "df.loc[dates[3]]"
      ],
      "execution_count": 34,
      "outputs": [
        {
          "output_type": "execute_result",
          "data": {
            "text/plain": [
              "A    1.465831\n",
              "B   -1.172706\n",
              "C    0.245932\n",
              "D   -1.937194\n",
              "Name: 2020-11-04 00:00:00, dtype: float64"
            ]
          },
          "metadata": {
            "tags": []
          },
          "execution_count": 34
        }
      ]
    },
    {
      "cell_type": "markdown",
      "metadata": {
        "id": "-ChDBJ66U7BR"
      },
      "source": [
        "依據位置挑出第3到5筆的B,C欄位資料"
      ]
    },
    {
      "cell_type": "code",
      "metadata": {
        "id": "yc1dGxoCZHyp",
        "outputId": "7ead6d40-6a8d-47bb-857e-1b6ccf3d7a1e",
        "colab": {
          "base_uri": "https://localhost:8080/",
          "height": 142
        }
      },
      "source": [
        "df.iloc[2:5, 1:3]"
      ],
      "execution_count": 37,
      "outputs": [
        {
          "output_type": "execute_result",
          "data": {
            "text/html": [
              "<div>\n",
              "<style scoped>\n",
              "    .dataframe tbody tr th:only-of-type {\n",
              "        vertical-align: middle;\n",
              "    }\n",
              "\n",
              "    .dataframe tbody tr th {\n",
              "        vertical-align: top;\n",
              "    }\n",
              "\n",
              "    .dataframe thead th {\n",
              "        text-align: right;\n",
              "    }\n",
              "</style>\n",
              "<table border=\"1\" class=\"dataframe\">\n",
              "  <thead>\n",
              "    <tr style=\"text-align: right;\">\n",
              "      <th></th>\n",
              "      <th>B</th>\n",
              "      <th>C</th>\n",
              "    </tr>\n",
              "  </thead>\n",
              "  <tbody>\n",
              "    <tr>\n",
              "      <th>2020-11-03</th>\n",
              "      <td>-0.288995</td>\n",
              "      <td>-1.747820</td>\n",
              "    </tr>\n",
              "    <tr>\n",
              "      <th>2020-11-04</th>\n",
              "      <td>-1.172706</td>\n",
              "      <td>0.245932</td>\n",
              "    </tr>\n",
              "    <tr>\n",
              "      <th>2020-11-05</th>\n",
              "      <td>0.557697</td>\n",
              "      <td>1.245044</td>\n",
              "    </tr>\n",
              "  </tbody>\n",
              "</table>\n",
              "</div>"
            ],
            "text/plain": [
              "                   B         C\n",
              "2020-11-03 -0.288995 -1.747820\n",
              "2020-11-04 -1.172706  0.245932\n",
              "2020-11-05  0.557697  1.245044"
            ]
          },
          "metadata": {
            "tags": []
          },
          "execution_count": 37
        }
      ]
    },
    {
      "cell_type": "markdown",
      "metadata": {
        "id": "XSeH1DCVZdJk"
      },
      "source": [
        "依據位置挑出第3、6筆的B,D欄位資料"
      ]
    },
    {
      "cell_type": "code",
      "metadata": {
        "id": "NnERBAeUZnCi",
        "outputId": "67695bd4-7843-45fc-9786-5e865e412449",
        "colab": {
          "base_uri": "https://localhost:8080/",
          "height": 111
        }
      },
      "source": [
        "df.iloc[[2, 5], [1, 3]]"
      ],
      "execution_count": 38,
      "outputs": [
        {
          "output_type": "execute_result",
          "data": {
            "text/html": [
              "<div>\n",
              "<style scoped>\n",
              "    .dataframe tbody tr th:only-of-type {\n",
              "        vertical-align: middle;\n",
              "    }\n",
              "\n",
              "    .dataframe tbody tr th {\n",
              "        vertical-align: top;\n",
              "    }\n",
              "\n",
              "    .dataframe thead th {\n",
              "        text-align: right;\n",
              "    }\n",
              "</style>\n",
              "<table border=\"1\" class=\"dataframe\">\n",
              "  <thead>\n",
              "    <tr style=\"text-align: right;\">\n",
              "      <th></th>\n",
              "      <th>B</th>\n",
              "      <th>D</th>\n",
              "    </tr>\n",
              "  </thead>\n",
              "  <tbody>\n",
              "    <tr>\n",
              "      <th>2020-11-03</th>\n",
              "      <td>-0.288995</td>\n",
              "      <td>0.897806</td>\n",
              "    </tr>\n",
              "    <tr>\n",
              "      <th>2020-11-06</th>\n",
              "      <td>-2.061205</td>\n",
              "      <td>0.598485</td>\n",
              "    </tr>\n",
              "  </tbody>\n",
              "</table>\n",
              "</div>"
            ],
            "text/plain": [
              "                   B         D\n",
              "2020-11-03 -0.288995  0.897806\n",
              "2020-11-06 -2.061205  0.598485"
            ]
          },
          "metadata": {
            "tags": []
          },
          "execution_count": 38
        }
      ]
    },
    {
      "cell_type": "markdown",
      "metadata": {
        "id": "_U-IYs0KZt9d"
      },
      "source": [
        "依據位置挑出第2到5筆的所有資料"
      ]
    },
    {
      "cell_type": "code",
      "metadata": {
        "id": "M7KSJPC0Z-mo",
        "outputId": "9e96fb95-279a-408e-ecbf-7c0973bd6ed6",
        "colab": {
          "base_uri": "https://localhost:8080/",
          "height": 173
        }
      },
      "source": [
        "df.iloc[1:5, :]"
      ],
      "execution_count": 40,
      "outputs": [
        {
          "output_type": "execute_result",
          "data": {
            "text/html": [
              "<div>\n",
              "<style scoped>\n",
              "    .dataframe tbody tr th:only-of-type {\n",
              "        vertical-align: middle;\n",
              "    }\n",
              "\n",
              "    .dataframe tbody tr th {\n",
              "        vertical-align: top;\n",
              "    }\n",
              "\n",
              "    .dataframe thead th {\n",
              "        text-align: right;\n",
              "    }\n",
              "</style>\n",
              "<table border=\"1\" class=\"dataframe\">\n",
              "  <thead>\n",
              "    <tr style=\"text-align: right;\">\n",
              "      <th></th>\n",
              "      <th>A</th>\n",
              "      <th>B</th>\n",
              "      <th>C</th>\n",
              "      <th>D</th>\n",
              "    </tr>\n",
              "  </thead>\n",
              "  <tbody>\n",
              "    <tr>\n",
              "      <th>2020-11-02</th>\n",
              "      <td>-0.107384</td>\n",
              "      <td>-1.286447</td>\n",
              "      <td>-0.914087</td>\n",
              "      <td>-1.218426</td>\n",
              "    </tr>\n",
              "    <tr>\n",
              "      <th>2020-11-03</th>\n",
              "      <td>-0.184900</td>\n",
              "      <td>-0.288995</td>\n",
              "      <td>-1.747820</td>\n",
              "      <td>0.897806</td>\n",
              "    </tr>\n",
              "    <tr>\n",
              "      <th>2020-11-04</th>\n",
              "      <td>1.465831</td>\n",
              "      <td>-1.172706</td>\n",
              "      <td>0.245932</td>\n",
              "      <td>-1.937194</td>\n",
              "    </tr>\n",
              "    <tr>\n",
              "      <th>2020-11-05</th>\n",
              "      <td>-0.418069</td>\n",
              "      <td>0.557697</td>\n",
              "      <td>1.245044</td>\n",
              "      <td>-0.268380</td>\n",
              "    </tr>\n",
              "  </tbody>\n",
              "</table>\n",
              "</div>"
            ],
            "text/plain": [
              "                   A         B         C         D\n",
              "2020-11-02 -0.107384 -1.286447 -0.914087 -1.218426\n",
              "2020-11-03 -0.184900 -0.288995 -1.747820  0.897806\n",
              "2020-11-04  1.465831 -1.172706  0.245932 -1.937194\n",
              "2020-11-05 -0.418069  0.557697  1.245044 -0.268380"
            ]
          },
          "metadata": {
            "tags": []
          },
          "execution_count": 40
        }
      ]
    },
    {
      "cell_type": "markdown",
      "metadata": {
        "id": "KbZLFB0yaFv7"
      },
      "source": [
        "依據位置挑出A到C欄位的所有資料"
      ]
    },
    {
      "cell_type": "code",
      "metadata": {
        "id": "vaVnwbdXbD6Z",
        "outputId": "e418fc4c-d8ff-4d95-fb92-1d116aa36970",
        "colab": {
          "base_uri": "https://localhost:8080/",
          "height": 235
        }
      },
      "source": [
        "df.iloc[:, 0:3]"
      ],
      "execution_count": 41,
      "outputs": [
        {
          "output_type": "execute_result",
          "data": {
            "text/html": [
              "<div>\n",
              "<style scoped>\n",
              "    .dataframe tbody tr th:only-of-type {\n",
              "        vertical-align: middle;\n",
              "    }\n",
              "\n",
              "    .dataframe tbody tr th {\n",
              "        vertical-align: top;\n",
              "    }\n",
              "\n",
              "    .dataframe thead th {\n",
              "        text-align: right;\n",
              "    }\n",
              "</style>\n",
              "<table border=\"1\" class=\"dataframe\">\n",
              "  <thead>\n",
              "    <tr style=\"text-align: right;\">\n",
              "      <th></th>\n",
              "      <th>A</th>\n",
              "      <th>B</th>\n",
              "      <th>C</th>\n",
              "    </tr>\n",
              "  </thead>\n",
              "  <tbody>\n",
              "    <tr>\n",
              "      <th>2020-11-01</th>\n",
              "      <td>1.223404</td>\n",
              "      <td>-1.199385</td>\n",
              "      <td>0.589860</td>\n",
              "    </tr>\n",
              "    <tr>\n",
              "      <th>2020-11-02</th>\n",
              "      <td>-0.107384</td>\n",
              "      <td>-1.286447</td>\n",
              "      <td>-0.914087</td>\n",
              "    </tr>\n",
              "    <tr>\n",
              "      <th>2020-11-03</th>\n",
              "      <td>-0.184900</td>\n",
              "      <td>-0.288995</td>\n",
              "      <td>-1.747820</td>\n",
              "    </tr>\n",
              "    <tr>\n",
              "      <th>2020-11-04</th>\n",
              "      <td>1.465831</td>\n",
              "      <td>-1.172706</td>\n",
              "      <td>0.245932</td>\n",
              "    </tr>\n",
              "    <tr>\n",
              "      <th>2020-11-05</th>\n",
              "      <td>-0.418069</td>\n",
              "      <td>0.557697</td>\n",
              "      <td>1.245044</td>\n",
              "    </tr>\n",
              "    <tr>\n",
              "      <th>2020-11-06</th>\n",
              "      <td>-1.496519</td>\n",
              "      <td>-2.061205</td>\n",
              "      <td>-1.082509</td>\n",
              "    </tr>\n",
              "  </tbody>\n",
              "</table>\n",
              "</div>"
            ],
            "text/plain": [
              "                   A         B         C\n",
              "2020-11-01  1.223404 -1.199385  0.589860\n",
              "2020-11-02 -0.107384 -1.286447 -0.914087\n",
              "2020-11-03 -0.184900 -0.288995 -1.747820\n",
              "2020-11-04  1.465831 -1.172706  0.245932\n",
              "2020-11-05 -0.418069  0.557697  1.245044\n",
              "2020-11-06 -1.496519 -2.061205 -1.082509"
            ]
          },
          "metadata": {
            "tags": []
          },
          "execution_count": 41
        }
      ]
    },
    {
      "cell_type": "markdown",
      "metadata": {
        "id": "99Jo-8Y-bH18"
      },
      "source": [
        "依據位置挑出第3筆的C欄位資料"
      ]
    },
    {
      "cell_type": "code",
      "metadata": {
        "id": "oYSLAfizbSTQ",
        "outputId": "720cfc9e-dec5-4f34-f1b6-f895ad818235",
        "colab": {
          "base_uri": "https://localhost:8080/"
        }
      },
      "source": [
        "df.iloc[2, 2]"
      ],
      "execution_count": 42,
      "outputs": [
        {
          "output_type": "execute_result",
          "data": {
            "text/plain": [
              "-1.7478197302253249"
            ]
          },
          "metadata": {
            "tags": []
          },
          "execution_count": 42
        }
      ]
    },
    {
      "cell_type": "code",
      "metadata": {
        "id": "c0hFxVFnbhI8",
        "outputId": "fce50ee2-3072-46d0-ff57-12bf54fca00f",
        "colab": {
          "base_uri": "https://localhost:8080/"
        }
      },
      "source": [
        "df.iat[2, 2]"
      ],
      "execution_count": 43,
      "outputs": [
        {
          "output_type": "execute_result",
          "data": {
            "text/plain": [
              "-1.7478197302253249"
            ]
          },
          "metadata": {
            "tags": []
          },
          "execution_count": 43
        }
      ]
    },
    {
      "cell_type": "markdown",
      "metadata": {
        "id": "eKWYZFgccZtW"
      },
      "source": [
        "挑出欄位C大於0的所有資料"
      ]
    },
    {
      "cell_type": "code",
      "metadata": {
        "id": "ai2ccnaYeOpw",
        "outputId": "441fc634-04e7-4c90-e00f-c81142920c9b",
        "colab": {
          "base_uri": "https://localhost:8080/",
          "height": 142
        }
      },
      "source": [
        "df[df['C'] > 0]"
      ],
      "execution_count": 44,
      "outputs": [
        {
          "output_type": "execute_result",
          "data": {
            "text/html": [
              "<div>\n",
              "<style scoped>\n",
              "    .dataframe tbody tr th:only-of-type {\n",
              "        vertical-align: middle;\n",
              "    }\n",
              "\n",
              "    .dataframe tbody tr th {\n",
              "        vertical-align: top;\n",
              "    }\n",
              "\n",
              "    .dataframe thead th {\n",
              "        text-align: right;\n",
              "    }\n",
              "</style>\n",
              "<table border=\"1\" class=\"dataframe\">\n",
              "  <thead>\n",
              "    <tr style=\"text-align: right;\">\n",
              "      <th></th>\n",
              "      <th>A</th>\n",
              "      <th>B</th>\n",
              "      <th>C</th>\n",
              "      <th>D</th>\n",
              "    </tr>\n",
              "  </thead>\n",
              "  <tbody>\n",
              "    <tr>\n",
              "      <th>2020-11-01</th>\n",
              "      <td>1.223404</td>\n",
              "      <td>-1.199385</td>\n",
              "      <td>0.589860</td>\n",
              "      <td>-0.016113</td>\n",
              "    </tr>\n",
              "    <tr>\n",
              "      <th>2020-11-04</th>\n",
              "      <td>1.465831</td>\n",
              "      <td>-1.172706</td>\n",
              "      <td>0.245932</td>\n",
              "      <td>-1.937194</td>\n",
              "    </tr>\n",
              "    <tr>\n",
              "      <th>2020-11-05</th>\n",
              "      <td>-0.418069</td>\n",
              "      <td>0.557697</td>\n",
              "      <td>1.245044</td>\n",
              "      <td>-0.268380</td>\n",
              "    </tr>\n",
              "  </tbody>\n",
              "</table>\n",
              "</div>"
            ],
            "text/plain": [
              "                   A         B         C         D\n",
              "2020-11-01  1.223404 -1.199385  0.589860 -0.016113\n",
              "2020-11-04  1.465831 -1.172706  0.245932 -1.937194\n",
              "2020-11-05 -0.418069  0.557697  1.245044 -0.268380"
            ]
          },
          "metadata": {
            "tags": []
          },
          "execution_count": 44
        }
      ]
    },
    {
      "cell_type": "markdown",
      "metadata": {
        "id": "OQ-66ZF5eOAf"
      },
      "source": [
        "df資料大於0的值顯示出來"
      ]
    },
    {
      "cell_type": "code",
      "metadata": {
        "id": "WRfBuKdxei9q",
        "outputId": "3952d4e2-31df-4f72-d008-a2d71a289da3",
        "colab": {
          "base_uri": "https://localhost:8080/",
          "height": 235
        }
      },
      "source": [
        "df[df > 0]"
      ],
      "execution_count": 45,
      "outputs": [
        {
          "output_type": "execute_result",
          "data": {
            "text/html": [
              "<div>\n",
              "<style scoped>\n",
              "    .dataframe tbody tr th:only-of-type {\n",
              "        vertical-align: middle;\n",
              "    }\n",
              "\n",
              "    .dataframe tbody tr th {\n",
              "        vertical-align: top;\n",
              "    }\n",
              "\n",
              "    .dataframe thead th {\n",
              "        text-align: right;\n",
              "    }\n",
              "</style>\n",
              "<table border=\"1\" class=\"dataframe\">\n",
              "  <thead>\n",
              "    <tr style=\"text-align: right;\">\n",
              "      <th></th>\n",
              "      <th>A</th>\n",
              "      <th>B</th>\n",
              "      <th>C</th>\n",
              "      <th>D</th>\n",
              "    </tr>\n",
              "  </thead>\n",
              "  <tbody>\n",
              "    <tr>\n",
              "      <th>2020-11-01</th>\n",
              "      <td>1.223404</td>\n",
              "      <td>NaN</td>\n",
              "      <td>0.589860</td>\n",
              "      <td>NaN</td>\n",
              "    </tr>\n",
              "    <tr>\n",
              "      <th>2020-11-02</th>\n",
              "      <td>NaN</td>\n",
              "      <td>NaN</td>\n",
              "      <td>NaN</td>\n",
              "      <td>NaN</td>\n",
              "    </tr>\n",
              "    <tr>\n",
              "      <th>2020-11-03</th>\n",
              "      <td>NaN</td>\n",
              "      <td>NaN</td>\n",
              "      <td>NaN</td>\n",
              "      <td>0.897806</td>\n",
              "    </tr>\n",
              "    <tr>\n",
              "      <th>2020-11-04</th>\n",
              "      <td>1.465831</td>\n",
              "      <td>NaN</td>\n",
              "      <td>0.245932</td>\n",
              "      <td>NaN</td>\n",
              "    </tr>\n",
              "    <tr>\n",
              "      <th>2020-11-05</th>\n",
              "      <td>NaN</td>\n",
              "      <td>0.557697</td>\n",
              "      <td>1.245044</td>\n",
              "      <td>NaN</td>\n",
              "    </tr>\n",
              "    <tr>\n",
              "      <th>2020-11-06</th>\n",
              "      <td>NaN</td>\n",
              "      <td>NaN</td>\n",
              "      <td>NaN</td>\n",
              "      <td>0.598485</td>\n",
              "    </tr>\n",
              "  </tbody>\n",
              "</table>\n",
              "</div>"
            ],
            "text/plain": [
              "                   A         B         C         D\n",
              "2020-11-01  1.223404       NaN  0.589860       NaN\n",
              "2020-11-02       NaN       NaN       NaN       NaN\n",
              "2020-11-03       NaN       NaN       NaN  0.897806\n",
              "2020-11-04  1.465831       NaN  0.245932       NaN\n",
              "2020-11-05       NaN  0.557697  1.245044       NaN\n",
              "2020-11-06       NaN       NaN       NaN  0.598485"
            ]
          },
          "metadata": {
            "tags": []
          },
          "execution_count": 45
        }
      ]
    },
    {
      "cell_type": "markdown",
      "metadata": {
        "id": "6yXwT0yFesil"
      },
      "source": [
        "複製df資料到df2\n",
        "然後新增E欄位值為one,two,three,four,five,six"
      ]
    },
    {
      "cell_type": "code",
      "metadata": {
        "id": "hT4c5KESfMrq",
        "outputId": "1f2f32ef-cab4-4abb-e1d2-be62fa7e21f5",
        "colab": {
          "base_uri": "https://localhost:8080/",
          "height": 235
        }
      },
      "source": [
        "df2 = df.copy()\n",
        "df2['E']=['one', 'two', 'three', 'four', 'five', 'six']\n",
        "df2"
      ],
      "execution_count": 46,
      "outputs": [
        {
          "output_type": "execute_result",
          "data": {
            "text/html": [
              "<div>\n",
              "<style scoped>\n",
              "    .dataframe tbody tr th:only-of-type {\n",
              "        vertical-align: middle;\n",
              "    }\n",
              "\n",
              "    .dataframe tbody tr th {\n",
              "        vertical-align: top;\n",
              "    }\n",
              "\n",
              "    .dataframe thead th {\n",
              "        text-align: right;\n",
              "    }\n",
              "</style>\n",
              "<table border=\"1\" class=\"dataframe\">\n",
              "  <thead>\n",
              "    <tr style=\"text-align: right;\">\n",
              "      <th></th>\n",
              "      <th>A</th>\n",
              "      <th>B</th>\n",
              "      <th>C</th>\n",
              "      <th>D</th>\n",
              "      <th>E</th>\n",
              "    </tr>\n",
              "  </thead>\n",
              "  <tbody>\n",
              "    <tr>\n",
              "      <th>2020-11-01</th>\n",
              "      <td>1.223404</td>\n",
              "      <td>-1.199385</td>\n",
              "      <td>0.589860</td>\n",
              "      <td>-0.016113</td>\n",
              "      <td>one</td>\n",
              "    </tr>\n",
              "    <tr>\n",
              "      <th>2020-11-02</th>\n",
              "      <td>-0.107384</td>\n",
              "      <td>-1.286447</td>\n",
              "      <td>-0.914087</td>\n",
              "      <td>-1.218426</td>\n",
              "      <td>two</td>\n",
              "    </tr>\n",
              "    <tr>\n",
              "      <th>2020-11-03</th>\n",
              "      <td>-0.184900</td>\n",
              "      <td>-0.288995</td>\n",
              "      <td>-1.747820</td>\n",
              "      <td>0.897806</td>\n",
              "      <td>three</td>\n",
              "    </tr>\n",
              "    <tr>\n",
              "      <th>2020-11-04</th>\n",
              "      <td>1.465831</td>\n",
              "      <td>-1.172706</td>\n",
              "      <td>0.245932</td>\n",
              "      <td>-1.937194</td>\n",
              "      <td>four</td>\n",
              "    </tr>\n",
              "    <tr>\n",
              "      <th>2020-11-05</th>\n",
              "      <td>-0.418069</td>\n",
              "      <td>0.557697</td>\n",
              "      <td>1.245044</td>\n",
              "      <td>-0.268380</td>\n",
              "      <td>five</td>\n",
              "    </tr>\n",
              "    <tr>\n",
              "      <th>2020-11-06</th>\n",
              "      <td>-1.496519</td>\n",
              "      <td>-2.061205</td>\n",
              "      <td>-1.082509</td>\n",
              "      <td>0.598485</td>\n",
              "      <td>six</td>\n",
              "    </tr>\n",
              "  </tbody>\n",
              "</table>\n",
              "</div>"
            ],
            "text/plain": [
              "                   A         B         C         D      E\n",
              "2020-11-01  1.223404 -1.199385  0.589860 -0.016113    one\n",
              "2020-11-02 -0.107384 -1.286447 -0.914087 -1.218426    two\n",
              "2020-11-03 -0.184900 -0.288995 -1.747820  0.897806  three\n",
              "2020-11-04  1.465831 -1.172706  0.245932 -1.937194   four\n",
              "2020-11-05 -0.418069  0.557697  1.245044 -0.268380   five\n",
              "2020-11-06 -1.496519 -2.061205 -1.082509  0.598485    six"
            ]
          },
          "metadata": {
            "tags": []
          },
          "execution_count": 46
        }
      ]
    },
    {
      "cell_type": "markdown",
      "metadata": {
        "id": "sVmiz8fWgCSB"
      },
      "source": [
        "挑出E欄位two和five的所有資料"
      ]
    },
    {
      "cell_type": "code",
      "metadata": {
        "id": "QATSdhlxf2_6",
        "outputId": "e0c169b4-51e3-4f6c-b6e2-f5ceaec6ea34",
        "colab": {
          "base_uri": "https://localhost:8080/",
          "height": 111
        }
      },
      "source": [
        "df2[df2['E'].isin(['two', 'five'])]"
      ],
      "execution_count": 47,
      "outputs": [
        {
          "output_type": "execute_result",
          "data": {
            "text/html": [
              "<div>\n",
              "<style scoped>\n",
              "    .dataframe tbody tr th:only-of-type {\n",
              "        vertical-align: middle;\n",
              "    }\n",
              "\n",
              "    .dataframe tbody tr th {\n",
              "        vertical-align: top;\n",
              "    }\n",
              "\n",
              "    .dataframe thead th {\n",
              "        text-align: right;\n",
              "    }\n",
              "</style>\n",
              "<table border=\"1\" class=\"dataframe\">\n",
              "  <thead>\n",
              "    <tr style=\"text-align: right;\">\n",
              "      <th></th>\n",
              "      <th>A</th>\n",
              "      <th>B</th>\n",
              "      <th>C</th>\n",
              "      <th>D</th>\n",
              "      <th>E</th>\n",
              "    </tr>\n",
              "  </thead>\n",
              "  <tbody>\n",
              "    <tr>\n",
              "      <th>2020-11-02</th>\n",
              "      <td>-0.107384</td>\n",
              "      <td>-1.286447</td>\n",
              "      <td>-0.914087</td>\n",
              "      <td>-1.218426</td>\n",
              "      <td>two</td>\n",
              "    </tr>\n",
              "    <tr>\n",
              "      <th>2020-11-05</th>\n",
              "      <td>-0.418069</td>\n",
              "      <td>0.557697</td>\n",
              "      <td>1.245044</td>\n",
              "      <td>-0.268380</td>\n",
              "      <td>five</td>\n",
              "    </tr>\n",
              "  </tbody>\n",
              "</table>\n",
              "</div>"
            ],
            "text/plain": [
              "                   A         B         C         D     E\n",
              "2020-11-02 -0.107384 -1.286447 -0.914087 -1.218426   two\n",
              "2020-11-05 -0.418069  0.557697  1.245044 -0.268380  five"
            ]
          },
          "metadata": {
            "tags": []
          },
          "execution_count": 47
        }
      ]
    },
    {
      "cell_type": "markdown",
      "metadata": {
        "id": "eUrVEM0Th3Ua"
      },
      "source": [
        "```\n",
        "設定新欄位F\n",
        "索引為20201102到20201107\n",
        "值為123456\n",
        "然後加進df資料\n",
        "```"
      ]
    },
    {
      "cell_type": "code",
      "metadata": {
        "id": "zbInnTHgiMUw",
        "outputId": "aaae9bbc-0d5f-4eb7-ed6e-67d72960ce59",
        "colab": {
          "base_uri": "https://localhost:8080/",
          "height": 235
        }
      },
      "source": [
        "s1 = pd.Series([1, 2, 3, 4, 5, 6], index=pd.date_range('20201102', periods=6))\n",
        "df['F'] = s1\n",
        "df"
      ],
      "execution_count": 49,
      "outputs": [
        {
          "output_type": "execute_result",
          "data": {
            "text/html": [
              "<div>\n",
              "<style scoped>\n",
              "    .dataframe tbody tr th:only-of-type {\n",
              "        vertical-align: middle;\n",
              "    }\n",
              "\n",
              "    .dataframe tbody tr th {\n",
              "        vertical-align: top;\n",
              "    }\n",
              "\n",
              "    .dataframe thead th {\n",
              "        text-align: right;\n",
              "    }\n",
              "</style>\n",
              "<table border=\"1\" class=\"dataframe\">\n",
              "  <thead>\n",
              "    <tr style=\"text-align: right;\">\n",
              "      <th></th>\n",
              "      <th>A</th>\n",
              "      <th>B</th>\n",
              "      <th>C</th>\n",
              "      <th>D</th>\n",
              "      <th>F</th>\n",
              "    </tr>\n",
              "  </thead>\n",
              "  <tbody>\n",
              "    <tr>\n",
              "      <th>2020-11-01</th>\n",
              "      <td>1.223404</td>\n",
              "      <td>-1.199385</td>\n",
              "      <td>0.589860</td>\n",
              "      <td>-0.016113</td>\n",
              "      <td>NaN</td>\n",
              "    </tr>\n",
              "    <tr>\n",
              "      <th>2020-11-02</th>\n",
              "      <td>-0.107384</td>\n",
              "      <td>-1.286447</td>\n",
              "      <td>-0.914087</td>\n",
              "      <td>-1.218426</td>\n",
              "      <td>1.0</td>\n",
              "    </tr>\n",
              "    <tr>\n",
              "      <th>2020-11-03</th>\n",
              "      <td>-0.184900</td>\n",
              "      <td>-0.288995</td>\n",
              "      <td>-1.747820</td>\n",
              "      <td>0.897806</td>\n",
              "      <td>2.0</td>\n",
              "    </tr>\n",
              "    <tr>\n",
              "      <th>2020-11-04</th>\n",
              "      <td>1.465831</td>\n",
              "      <td>-1.172706</td>\n",
              "      <td>0.245932</td>\n",
              "      <td>-1.937194</td>\n",
              "      <td>3.0</td>\n",
              "    </tr>\n",
              "    <tr>\n",
              "      <th>2020-11-05</th>\n",
              "      <td>-0.418069</td>\n",
              "      <td>0.557697</td>\n",
              "      <td>1.245044</td>\n",
              "      <td>-0.268380</td>\n",
              "      <td>4.0</td>\n",
              "    </tr>\n",
              "    <tr>\n",
              "      <th>2020-11-06</th>\n",
              "      <td>-1.496519</td>\n",
              "      <td>-2.061205</td>\n",
              "      <td>-1.082509</td>\n",
              "      <td>0.598485</td>\n",
              "      <td>5.0</td>\n",
              "    </tr>\n",
              "  </tbody>\n",
              "</table>\n",
              "</div>"
            ],
            "text/plain": [
              "                   A         B         C         D    F\n",
              "2020-11-01  1.223404 -1.199385  0.589860 -0.016113  NaN\n",
              "2020-11-02 -0.107384 -1.286447 -0.914087 -1.218426  1.0\n",
              "2020-11-03 -0.184900 -0.288995 -1.747820  0.897806  2.0\n",
              "2020-11-04  1.465831 -1.172706  0.245932 -1.937194  3.0\n",
              "2020-11-05 -0.418069  0.557697  1.245044 -0.268380  4.0\n",
              "2020-11-06 -1.496519 -2.061205 -1.082509  0.598485  5.0"
            ]
          },
          "metadata": {
            "tags": []
          },
          "execution_count": 49
        }
      ]
    },
    {
      "cell_type": "markdown",
      "metadata": {
        "id": "dq36qkdZifbk"
      },
      "source": [
        "```\n",
        "依據標籤將第2筆的C欄位變為0\n",
        "依據位置將第5筆的B欄位變為0\n",
        "利用NumPy array把D欄位全變5\n",
        "```"
      ]
    },
    {
      "cell_type": "code",
      "metadata": {
        "id": "FSai86d8kFGp",
        "outputId": "671baea0-bb40-4c00-f258-864f36fcb6e2",
        "colab": {
          "base_uri": "https://localhost:8080/",
          "height": 235
        }
      },
      "source": [
        "df.at[dates[1], 'C'] = 0\n",
        "df.iat[4, 1] = 0\n",
        "df.loc[:, 'D'] = np.array([5] * len(df))\n",
        "df"
      ],
      "execution_count": 50,
      "outputs": [
        {
          "output_type": "execute_result",
          "data": {
            "text/html": [
              "<div>\n",
              "<style scoped>\n",
              "    .dataframe tbody tr th:only-of-type {\n",
              "        vertical-align: middle;\n",
              "    }\n",
              "\n",
              "    .dataframe tbody tr th {\n",
              "        vertical-align: top;\n",
              "    }\n",
              "\n",
              "    .dataframe thead th {\n",
              "        text-align: right;\n",
              "    }\n",
              "</style>\n",
              "<table border=\"1\" class=\"dataframe\">\n",
              "  <thead>\n",
              "    <tr style=\"text-align: right;\">\n",
              "      <th></th>\n",
              "      <th>A</th>\n",
              "      <th>B</th>\n",
              "      <th>C</th>\n",
              "      <th>D</th>\n",
              "      <th>F</th>\n",
              "    </tr>\n",
              "  </thead>\n",
              "  <tbody>\n",
              "    <tr>\n",
              "      <th>2020-11-01</th>\n",
              "      <td>1.223404</td>\n",
              "      <td>-1.199385</td>\n",
              "      <td>0.589860</td>\n",
              "      <td>5</td>\n",
              "      <td>NaN</td>\n",
              "    </tr>\n",
              "    <tr>\n",
              "      <th>2020-11-02</th>\n",
              "      <td>-0.107384</td>\n",
              "      <td>-1.286447</td>\n",
              "      <td>0.000000</td>\n",
              "      <td>5</td>\n",
              "      <td>1.0</td>\n",
              "    </tr>\n",
              "    <tr>\n",
              "      <th>2020-11-03</th>\n",
              "      <td>-0.184900</td>\n",
              "      <td>-0.288995</td>\n",
              "      <td>-1.747820</td>\n",
              "      <td>5</td>\n",
              "      <td>2.0</td>\n",
              "    </tr>\n",
              "    <tr>\n",
              "      <th>2020-11-04</th>\n",
              "      <td>1.465831</td>\n",
              "      <td>-1.172706</td>\n",
              "      <td>0.245932</td>\n",
              "      <td>5</td>\n",
              "      <td>3.0</td>\n",
              "    </tr>\n",
              "    <tr>\n",
              "      <th>2020-11-05</th>\n",
              "      <td>-0.418069</td>\n",
              "      <td>0.000000</td>\n",
              "      <td>1.245044</td>\n",
              "      <td>5</td>\n",
              "      <td>4.0</td>\n",
              "    </tr>\n",
              "    <tr>\n",
              "      <th>2020-11-06</th>\n",
              "      <td>-1.496519</td>\n",
              "      <td>-2.061205</td>\n",
              "      <td>-1.082509</td>\n",
              "      <td>5</td>\n",
              "      <td>5.0</td>\n",
              "    </tr>\n",
              "  </tbody>\n",
              "</table>\n",
              "</div>"
            ],
            "text/plain": [
              "                   A         B         C  D    F\n",
              "2020-11-01  1.223404 -1.199385  0.589860  5  NaN\n",
              "2020-11-02 -0.107384 -1.286447  0.000000  5  1.0\n",
              "2020-11-03 -0.184900 -0.288995 -1.747820  5  2.0\n",
              "2020-11-04  1.465831 -1.172706  0.245932  5  3.0\n",
              "2020-11-05 -0.418069  0.000000  1.245044  5  4.0\n",
              "2020-11-06 -1.496519 -2.061205 -1.082509  5  5.0"
            ]
          },
          "metadata": {
            "tags": []
          },
          "execution_count": 50
        }
      ]
    },
    {
      "cell_type": "markdown",
      "metadata": {
        "id": "SPjYQqbQkabb"
      },
      "source": [
        "```\n",
        "將df複製到df2\n",
        "將所有值變為負數\n",
        "```"
      ]
    },
    {
      "cell_type": "code",
      "metadata": {
        "id": "Kyz0Ya78kpfJ",
        "outputId": "ed32a9ae-1366-4616-a86a-c77d05ec9509",
        "colab": {
          "base_uri": "https://localhost:8080/",
          "height": 235
        }
      },
      "source": [
        "df2 = df.copy()\n",
        "df2[df2 > 0] = -df2\n",
        "df2"
      ],
      "execution_count": 52,
      "outputs": [
        {
          "output_type": "execute_result",
          "data": {
            "text/html": [
              "<div>\n",
              "<style scoped>\n",
              "    .dataframe tbody tr th:only-of-type {\n",
              "        vertical-align: middle;\n",
              "    }\n",
              "\n",
              "    .dataframe tbody tr th {\n",
              "        vertical-align: top;\n",
              "    }\n",
              "\n",
              "    .dataframe thead th {\n",
              "        text-align: right;\n",
              "    }\n",
              "</style>\n",
              "<table border=\"1\" class=\"dataframe\">\n",
              "  <thead>\n",
              "    <tr style=\"text-align: right;\">\n",
              "      <th></th>\n",
              "      <th>A</th>\n",
              "      <th>B</th>\n",
              "      <th>C</th>\n",
              "      <th>D</th>\n",
              "      <th>F</th>\n",
              "    </tr>\n",
              "  </thead>\n",
              "  <tbody>\n",
              "    <tr>\n",
              "      <th>2020-11-01</th>\n",
              "      <td>-1.223404</td>\n",
              "      <td>-1.199385</td>\n",
              "      <td>-0.589860</td>\n",
              "      <td>-5</td>\n",
              "      <td>NaN</td>\n",
              "    </tr>\n",
              "    <tr>\n",
              "      <th>2020-11-02</th>\n",
              "      <td>-0.107384</td>\n",
              "      <td>-1.286447</td>\n",
              "      <td>0.000000</td>\n",
              "      <td>-5</td>\n",
              "      <td>-1.0</td>\n",
              "    </tr>\n",
              "    <tr>\n",
              "      <th>2020-11-03</th>\n",
              "      <td>-0.184900</td>\n",
              "      <td>-0.288995</td>\n",
              "      <td>-1.747820</td>\n",
              "      <td>-5</td>\n",
              "      <td>-2.0</td>\n",
              "    </tr>\n",
              "    <tr>\n",
              "      <th>2020-11-04</th>\n",
              "      <td>-1.465831</td>\n",
              "      <td>-1.172706</td>\n",
              "      <td>-0.245932</td>\n",
              "      <td>-5</td>\n",
              "      <td>-3.0</td>\n",
              "    </tr>\n",
              "    <tr>\n",
              "      <th>2020-11-05</th>\n",
              "      <td>-0.418069</td>\n",
              "      <td>0.000000</td>\n",
              "      <td>-1.245044</td>\n",
              "      <td>-5</td>\n",
              "      <td>-4.0</td>\n",
              "    </tr>\n",
              "    <tr>\n",
              "      <th>2020-11-06</th>\n",
              "      <td>-1.496519</td>\n",
              "      <td>-2.061205</td>\n",
              "      <td>-1.082509</td>\n",
              "      <td>-5</td>\n",
              "      <td>-5.0</td>\n",
              "    </tr>\n",
              "  </tbody>\n",
              "</table>\n",
              "</div>"
            ],
            "text/plain": [
              "                   A         B         C  D    F\n",
              "2020-11-01 -1.223404 -1.199385 -0.589860 -5  NaN\n",
              "2020-11-02 -0.107384 -1.286447  0.000000 -5 -1.0\n",
              "2020-11-03 -0.184900 -0.288995 -1.747820 -5 -2.0\n",
              "2020-11-04 -1.465831 -1.172706 -0.245932 -5 -3.0\n",
              "2020-11-05 -0.418069  0.000000 -1.245044 -5 -4.0\n",
              "2020-11-06 -1.496519 -2.061205 -1.082509 -5 -5.0"
            ]
          },
          "metadata": {
            "tags": []
          },
          "execution_count": 52
        }
      ]
    },
    {
      "cell_type": "markdown",
      "metadata": {
        "id": "XmH_yCTVrbO-"
      },
      "source": [
        "```\n",
        "重新索引6筆資料到df1\n",
        "並增加E欄位\n",
        "E欄位第1到3筆為1，其餘沒有值\n",
        "```"
      ]
    },
    {
      "cell_type": "code",
      "metadata": {
        "id": "Zth4AbJ5sDEa",
        "outputId": "f12ce709-db42-4d2b-972c-09de6a530ece",
        "colab": {
          "base_uri": "https://localhost:8080/",
          "height": 235
        }
      },
      "source": [
        "df1 = df.reindex(index=dates[0:6], columns=list(df.columns) + ['E'])\n",
        "df1.loc[dates[0]:dates[2], 'E'] = 1\n",
        "df1"
      ],
      "execution_count": 53,
      "outputs": [
        {
          "output_type": "execute_result",
          "data": {
            "text/html": [
              "<div>\n",
              "<style scoped>\n",
              "    .dataframe tbody tr th:only-of-type {\n",
              "        vertical-align: middle;\n",
              "    }\n",
              "\n",
              "    .dataframe tbody tr th {\n",
              "        vertical-align: top;\n",
              "    }\n",
              "\n",
              "    .dataframe thead th {\n",
              "        text-align: right;\n",
              "    }\n",
              "</style>\n",
              "<table border=\"1\" class=\"dataframe\">\n",
              "  <thead>\n",
              "    <tr style=\"text-align: right;\">\n",
              "      <th></th>\n",
              "      <th>A</th>\n",
              "      <th>B</th>\n",
              "      <th>C</th>\n",
              "      <th>D</th>\n",
              "      <th>F</th>\n",
              "      <th>E</th>\n",
              "    </tr>\n",
              "  </thead>\n",
              "  <tbody>\n",
              "    <tr>\n",
              "      <th>2020-11-01</th>\n",
              "      <td>1.223404</td>\n",
              "      <td>-1.199385</td>\n",
              "      <td>0.589860</td>\n",
              "      <td>5</td>\n",
              "      <td>NaN</td>\n",
              "      <td>1.0</td>\n",
              "    </tr>\n",
              "    <tr>\n",
              "      <th>2020-11-02</th>\n",
              "      <td>-0.107384</td>\n",
              "      <td>-1.286447</td>\n",
              "      <td>0.000000</td>\n",
              "      <td>5</td>\n",
              "      <td>1.0</td>\n",
              "      <td>1.0</td>\n",
              "    </tr>\n",
              "    <tr>\n",
              "      <th>2020-11-03</th>\n",
              "      <td>-0.184900</td>\n",
              "      <td>-0.288995</td>\n",
              "      <td>-1.747820</td>\n",
              "      <td>5</td>\n",
              "      <td>2.0</td>\n",
              "      <td>1.0</td>\n",
              "    </tr>\n",
              "    <tr>\n",
              "      <th>2020-11-04</th>\n",
              "      <td>1.465831</td>\n",
              "      <td>-1.172706</td>\n",
              "      <td>0.245932</td>\n",
              "      <td>5</td>\n",
              "      <td>3.0</td>\n",
              "      <td>NaN</td>\n",
              "    </tr>\n",
              "    <tr>\n",
              "      <th>2020-11-05</th>\n",
              "      <td>-0.418069</td>\n",
              "      <td>0.000000</td>\n",
              "      <td>1.245044</td>\n",
              "      <td>5</td>\n",
              "      <td>4.0</td>\n",
              "      <td>NaN</td>\n",
              "    </tr>\n",
              "    <tr>\n",
              "      <th>2020-11-06</th>\n",
              "      <td>-1.496519</td>\n",
              "      <td>-2.061205</td>\n",
              "      <td>-1.082509</td>\n",
              "      <td>5</td>\n",
              "      <td>5.0</td>\n",
              "      <td>NaN</td>\n",
              "    </tr>\n",
              "  </tbody>\n",
              "</table>\n",
              "</div>"
            ],
            "text/plain": [
              "                   A         B         C  D    F    E\n",
              "2020-11-01  1.223404 -1.199385  0.589860  5  NaN  1.0\n",
              "2020-11-02 -0.107384 -1.286447  0.000000  5  1.0  1.0\n",
              "2020-11-03 -0.184900 -0.288995 -1.747820  5  2.0  1.0\n",
              "2020-11-04  1.465831 -1.172706  0.245932  5  3.0  NaN\n",
              "2020-11-05 -0.418069  0.000000  1.245044  5  4.0  NaN\n",
              "2020-11-06 -1.496519 -2.061205 -1.082509  5  5.0  NaN"
            ]
          },
          "metadata": {
            "tags": []
          },
          "execution_count": 53
        }
      ]
    },
    {
      "cell_type": "markdown",
      "metadata": {
        "id": "W-Dixl5psThG"
      },
      "source": [
        "刪除有缺失值的整筆資料"
      ]
    },
    {
      "cell_type": "code",
      "metadata": {
        "id": "MZoK5nrVwf1T",
        "outputId": "03285e41-7b4a-4be6-9a9b-1d816e206cc0",
        "colab": {
          "base_uri": "https://localhost:8080/",
          "height": 111
        }
      },
      "source": [
        "df1.dropna(how='any')"
      ],
      "execution_count": 54,
      "outputs": [
        {
          "output_type": "execute_result",
          "data": {
            "text/html": [
              "<div>\n",
              "<style scoped>\n",
              "    .dataframe tbody tr th:only-of-type {\n",
              "        vertical-align: middle;\n",
              "    }\n",
              "\n",
              "    .dataframe tbody tr th {\n",
              "        vertical-align: top;\n",
              "    }\n",
              "\n",
              "    .dataframe thead th {\n",
              "        text-align: right;\n",
              "    }\n",
              "</style>\n",
              "<table border=\"1\" class=\"dataframe\">\n",
              "  <thead>\n",
              "    <tr style=\"text-align: right;\">\n",
              "      <th></th>\n",
              "      <th>A</th>\n",
              "      <th>B</th>\n",
              "      <th>C</th>\n",
              "      <th>D</th>\n",
              "      <th>F</th>\n",
              "      <th>E</th>\n",
              "    </tr>\n",
              "  </thead>\n",
              "  <tbody>\n",
              "    <tr>\n",
              "      <th>2020-11-02</th>\n",
              "      <td>-0.107384</td>\n",
              "      <td>-1.286447</td>\n",
              "      <td>0.00000</td>\n",
              "      <td>5</td>\n",
              "      <td>1.0</td>\n",
              "      <td>1.0</td>\n",
              "    </tr>\n",
              "    <tr>\n",
              "      <th>2020-11-03</th>\n",
              "      <td>-0.184900</td>\n",
              "      <td>-0.288995</td>\n",
              "      <td>-1.74782</td>\n",
              "      <td>5</td>\n",
              "      <td>2.0</td>\n",
              "      <td>1.0</td>\n",
              "    </tr>\n",
              "  </tbody>\n",
              "</table>\n",
              "</div>"
            ],
            "text/plain": [
              "                   A         B        C  D    F    E\n",
              "2020-11-02 -0.107384 -1.286447  0.00000  5  1.0  1.0\n",
              "2020-11-03 -0.184900 -0.288995 -1.74782  5  2.0  1.0"
            ]
          },
          "metadata": {
            "tags": []
          },
          "execution_count": 54
        }
      ]
    },
    {
      "cell_type": "markdown",
      "metadata": {
        "id": "ic8LhKrGw3Lk"
      },
      "source": [
        "使用5來填補所有缺失值"
      ]
    },
    {
      "cell_type": "code",
      "metadata": {
        "id": "pumVcqqqw-e9",
        "outputId": "67183d74-a7f9-459c-c4eb-ed85c6df1597",
        "colab": {
          "base_uri": "https://localhost:8080/",
          "height": 235
        }
      },
      "source": [
        "df1.fillna(value=5)"
      ],
      "execution_count": 55,
      "outputs": [
        {
          "output_type": "execute_result",
          "data": {
            "text/html": [
              "<div>\n",
              "<style scoped>\n",
              "    .dataframe tbody tr th:only-of-type {\n",
              "        vertical-align: middle;\n",
              "    }\n",
              "\n",
              "    .dataframe tbody tr th {\n",
              "        vertical-align: top;\n",
              "    }\n",
              "\n",
              "    .dataframe thead th {\n",
              "        text-align: right;\n",
              "    }\n",
              "</style>\n",
              "<table border=\"1\" class=\"dataframe\">\n",
              "  <thead>\n",
              "    <tr style=\"text-align: right;\">\n",
              "      <th></th>\n",
              "      <th>A</th>\n",
              "      <th>B</th>\n",
              "      <th>C</th>\n",
              "      <th>D</th>\n",
              "      <th>F</th>\n",
              "      <th>E</th>\n",
              "    </tr>\n",
              "  </thead>\n",
              "  <tbody>\n",
              "    <tr>\n",
              "      <th>2020-11-01</th>\n",
              "      <td>1.223404</td>\n",
              "      <td>-1.199385</td>\n",
              "      <td>0.589860</td>\n",
              "      <td>5</td>\n",
              "      <td>5.0</td>\n",
              "      <td>1.0</td>\n",
              "    </tr>\n",
              "    <tr>\n",
              "      <th>2020-11-02</th>\n",
              "      <td>-0.107384</td>\n",
              "      <td>-1.286447</td>\n",
              "      <td>0.000000</td>\n",
              "      <td>5</td>\n",
              "      <td>1.0</td>\n",
              "      <td>1.0</td>\n",
              "    </tr>\n",
              "    <tr>\n",
              "      <th>2020-11-03</th>\n",
              "      <td>-0.184900</td>\n",
              "      <td>-0.288995</td>\n",
              "      <td>-1.747820</td>\n",
              "      <td>5</td>\n",
              "      <td>2.0</td>\n",
              "      <td>1.0</td>\n",
              "    </tr>\n",
              "    <tr>\n",
              "      <th>2020-11-04</th>\n",
              "      <td>1.465831</td>\n",
              "      <td>-1.172706</td>\n",
              "      <td>0.245932</td>\n",
              "      <td>5</td>\n",
              "      <td>3.0</td>\n",
              "      <td>5.0</td>\n",
              "    </tr>\n",
              "    <tr>\n",
              "      <th>2020-11-05</th>\n",
              "      <td>-0.418069</td>\n",
              "      <td>0.000000</td>\n",
              "      <td>1.245044</td>\n",
              "      <td>5</td>\n",
              "      <td>4.0</td>\n",
              "      <td>5.0</td>\n",
              "    </tr>\n",
              "    <tr>\n",
              "      <th>2020-11-06</th>\n",
              "      <td>-1.496519</td>\n",
              "      <td>-2.061205</td>\n",
              "      <td>-1.082509</td>\n",
              "      <td>5</td>\n",
              "      <td>5.0</td>\n",
              "      <td>5.0</td>\n",
              "    </tr>\n",
              "  </tbody>\n",
              "</table>\n",
              "</div>"
            ],
            "text/plain": [
              "                   A         B         C  D    F    E\n",
              "2020-11-01  1.223404 -1.199385  0.589860  5  5.0  1.0\n",
              "2020-11-02 -0.107384 -1.286447  0.000000  5  1.0  1.0\n",
              "2020-11-03 -0.184900 -0.288995 -1.747820  5  2.0  1.0\n",
              "2020-11-04  1.465831 -1.172706  0.245932  5  3.0  5.0\n",
              "2020-11-05 -0.418069  0.000000  1.245044  5  4.0  5.0\n",
              "2020-11-06 -1.496519 -2.061205 -1.082509  5  5.0  5.0"
            ]
          },
          "metadata": {
            "tags": []
          },
          "execution_count": 55
        }
      ]
    },
    {
      "cell_type": "markdown",
      "metadata": {
        "id": "HOyUT5pHx59Z"
      },
      "source": [
        "檢查是否存在NaN,有的顯示True"
      ]
    },
    {
      "cell_type": "code",
      "metadata": {
        "id": "4Z0A6fIbyGxj",
        "outputId": "ce368b84-56c2-42a9-c646-fe5871485f2e",
        "colab": {
          "base_uri": "https://localhost:8080/",
          "height": 235
        }
      },
      "source": [
        "pd.isna(df1)"
      ],
      "execution_count": 56,
      "outputs": [
        {
          "output_type": "execute_result",
          "data": {
            "text/html": [
              "<div>\n",
              "<style scoped>\n",
              "    .dataframe tbody tr th:only-of-type {\n",
              "        vertical-align: middle;\n",
              "    }\n",
              "\n",
              "    .dataframe tbody tr th {\n",
              "        vertical-align: top;\n",
              "    }\n",
              "\n",
              "    .dataframe thead th {\n",
              "        text-align: right;\n",
              "    }\n",
              "</style>\n",
              "<table border=\"1\" class=\"dataframe\">\n",
              "  <thead>\n",
              "    <tr style=\"text-align: right;\">\n",
              "      <th></th>\n",
              "      <th>A</th>\n",
              "      <th>B</th>\n",
              "      <th>C</th>\n",
              "      <th>D</th>\n",
              "      <th>F</th>\n",
              "      <th>E</th>\n",
              "    </tr>\n",
              "  </thead>\n",
              "  <tbody>\n",
              "    <tr>\n",
              "      <th>2020-11-01</th>\n",
              "      <td>False</td>\n",
              "      <td>False</td>\n",
              "      <td>False</td>\n",
              "      <td>False</td>\n",
              "      <td>True</td>\n",
              "      <td>False</td>\n",
              "    </tr>\n",
              "    <tr>\n",
              "      <th>2020-11-02</th>\n",
              "      <td>False</td>\n",
              "      <td>False</td>\n",
              "      <td>False</td>\n",
              "      <td>False</td>\n",
              "      <td>False</td>\n",
              "      <td>False</td>\n",
              "    </tr>\n",
              "    <tr>\n",
              "      <th>2020-11-03</th>\n",
              "      <td>False</td>\n",
              "      <td>False</td>\n",
              "      <td>False</td>\n",
              "      <td>False</td>\n",
              "      <td>False</td>\n",
              "      <td>False</td>\n",
              "    </tr>\n",
              "    <tr>\n",
              "      <th>2020-11-04</th>\n",
              "      <td>False</td>\n",
              "      <td>False</td>\n",
              "      <td>False</td>\n",
              "      <td>False</td>\n",
              "      <td>False</td>\n",
              "      <td>True</td>\n",
              "    </tr>\n",
              "    <tr>\n",
              "      <th>2020-11-05</th>\n",
              "      <td>False</td>\n",
              "      <td>False</td>\n",
              "      <td>False</td>\n",
              "      <td>False</td>\n",
              "      <td>False</td>\n",
              "      <td>True</td>\n",
              "    </tr>\n",
              "    <tr>\n",
              "      <th>2020-11-06</th>\n",
              "      <td>False</td>\n",
              "      <td>False</td>\n",
              "      <td>False</td>\n",
              "      <td>False</td>\n",
              "      <td>False</td>\n",
              "      <td>True</td>\n",
              "    </tr>\n",
              "  </tbody>\n",
              "</table>\n",
              "</div>"
            ],
            "text/plain": [
              "                A      B      C      D      F      E\n",
              "2020-11-01  False  False  False  False   True  False\n",
              "2020-11-02  False  False  False  False  False  False\n",
              "2020-11-03  False  False  False  False  False  False\n",
              "2020-11-04  False  False  False  False  False   True\n",
              "2020-11-05  False  False  False  False  False   True\n",
              "2020-11-06  False  False  False  False  False   True"
            ]
          },
          "metadata": {
            "tags": []
          },
          "execution_count": 56
        }
      ]
    }
  ]
}