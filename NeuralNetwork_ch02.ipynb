{
  "nbformat": 4,
  "nbformat_minor": 0,
  "metadata": {
    "colab": {
      "name": "NeuralNetwork-ch02.ipynb",
      "provenance": [],
      "collapsed_sections": [],
      "authorship_tag": "ABX9TyO0cHZP2knpYeX2QY6Ty4Dk",
      "include_colab_link": true
    },
    "kernelspec": {
      "name": "python3",
      "display_name": "Python 3"
    }
  },
  "cells": [
    {
      "cell_type": "markdown",
      "metadata": {
        "id": "view-in-github",
        "colab_type": "text"
      },
      "source": [
        "<a href=\"https://colab.research.google.com/github/ja-yu/AI/blob/main/NeuralNetwork_ch02.ipynb\" target=\"_parent\"><img src=\"https://colab.research.google.com/assets/colab-badge.svg\" alt=\"Open In Colab\"/></a>"
      ]
    },
    {
      "cell_type": "code",
      "metadata": {
        "colab": {
          "base_uri": "https://localhost:8080/"
        },
        "id": "3cFXIib5QlSk",
        "outputId": "40833edc-9e88-4d83-dff0-d1cd36343058"
      },
      "source": [
        "! git clone https://github.com/oreilly-japan/deep-learning-from-scratch.git"
      ],
      "execution_count": 1,
      "outputs": [
        {
          "output_type": "stream",
          "text": [
            "Cloning into 'deep-learning-from-scratch'...\n",
            "remote: Enumerating objects: 446, done.\u001b[K\n",
            "remote: Total 446 (delta 0), reused 0 (delta 0), pack-reused 446\u001b[K\n",
            "Receiving objects: 100% (446/446), 5.52 MiB | 4.17 MiB/s, done.\n",
            "Resolving deltas: 100% (232/232), done.\n"
          ],
          "name": "stdout"
        }
      ]
    },
    {
      "cell_type": "code",
      "metadata": {
        "colab": {
          "base_uri": "https://localhost:8080/"
        },
        "id": "lVTATtTUQtnm",
        "outputId": "2f529eda-de94-44db-fab8-26687b4915bc"
      },
      "source": [
        "ls"
      ],
      "execution_count": 2,
      "outputs": [
        {
          "output_type": "stream",
          "text": [
            "\u001b[0m\u001b[01;34mdeep-learning-from-scratch\u001b[0m/  \u001b[01;34msample_data\u001b[0m/\n"
          ],
          "name": "stdout"
        }
      ]
    },
    {
      "cell_type": "code",
      "metadata": {
        "colab": {
          "base_uri": "https://localhost:8080/"
        },
        "id": "rOft7jWeQzWG",
        "outputId": "c3d4ec2d-4363-4b57-d2d0-61bbb73b28e6"
      },
      "source": [
        "cd deep-learning-from-scratch/"
      ],
      "execution_count": 3,
      "outputs": [
        {
          "output_type": "stream",
          "text": [
            "/content/deep-learning-from-scratch\n"
          ],
          "name": "stdout"
        }
      ]
    },
    {
      "cell_type": "code",
      "metadata": {
        "colab": {
          "base_uri": "https://localhost:8080/"
        },
        "id": "fKpFu56ZQ1xm",
        "outputId": "56a31fa1-5928-4967-c987-728de4644625"
      },
      "source": [
        "ls"
      ],
      "execution_count": 4,
      "outputs": [
        {
          "output_type": "stream",
          "text": [
            "\u001b[0m\u001b[01;34mch01\u001b[0m/  \u001b[01;34mch03\u001b[0m/  \u001b[01;34mch05\u001b[0m/  \u001b[01;34mch07\u001b[0m/  \u001b[01;34mcommon\u001b[0m/   \u001b[01;32mLICENSE.md\u001b[0m*\n",
            "\u001b[01;34mch02\u001b[0m/  \u001b[01;34mch04\u001b[0m/  \u001b[01;34mch06\u001b[0m/  \u001b[01;34mch08\u001b[0m/  \u001b[01;34mdataset\u001b[0m/  README.md\n"
          ],
          "name": "stdout"
        }
      ]
    },
    {
      "cell_type": "code",
      "metadata": {
        "colab": {
          "base_uri": "https://localhost:8080/"
        },
        "id": "m5CdRsbpQ3kS",
        "outputId": "7fc3d40f-a202-4315-829b-7c70d16c62dc"
      },
      "source": [
        "cd ch02/"
      ],
      "execution_count": 5,
      "outputs": [
        {
          "output_type": "stream",
          "text": [
            "/content/deep-learning-from-scratch/ch02\n"
          ],
          "name": "stdout"
        }
      ]
    },
    {
      "cell_type": "code",
      "metadata": {
        "colab": {
          "base_uri": "https://localhost:8080/"
        },
        "id": "YO0XT1Y2RIU6",
        "outputId": "33727fff-c3bf-447b-860a-fd1cc30b95fe"
      },
      "source": [
        "ls"
      ],
      "execution_count": 6,
      "outputs": [
        {
          "output_type": "stream",
          "text": [
            "and_gate.py  nand_gate.py  or_gate.py  xor_gate.py\n"
          ],
          "name": "stdout"
        }
      ]
    },
    {
      "cell_type": "code",
      "metadata": {
        "colab": {
          "base_uri": "https://localhost:8080/"
        },
        "id": "9qKS_zXvRKCI",
        "outputId": "71ba7b35-69a2-4d53-b626-3cf8b61028fe"
      },
      "source": [
        "cat and_gate.py"
      ],
      "execution_count": 7,
      "outputs": [
        {
          "output_type": "stream",
          "text": [
            "# coding: utf-8\n",
            "import numpy as np\n",
            "\n",
            "\n",
            "def AND(x1, x2):\n",
            "    x = np.array([x1, x2])\n",
            "    w = np.array([0.5, 0.5])\n",
            "    b = -0.7\n",
            "    tmp = np.sum(w*x) + b\n",
            "    if tmp <= 0:\n",
            "        return 0\n",
            "    else:\n",
            "        return 1\n",
            "\n",
            "if __name__ == '__main__':\n",
            "    for xs in [(0, 0), (1, 0), (0, 1), (1, 1)]:\n",
            "        y = AND(xs[0], xs[1])\n",
            "        print(str(xs) + \" -> \" + str(y))\n"
          ],
          "name": "stdout"
        }
      ]
    },
    {
      "cell_type": "code",
      "metadata": {
        "colab": {
          "base_uri": "https://localhost:8080/"
        },
        "id": "23UBjzzeRm0v",
        "outputId": "63b9433b-ce18-49f9-8aa3-c3d2d741e03d"
      },
      "source": [
        "! python and_gate.py"
      ],
      "execution_count": 8,
      "outputs": [
        {
          "output_type": "stream",
          "text": [
            "(0, 0) -> 0\n",
            "(1, 0) -> 0\n",
            "(0, 1) -> 0\n",
            "(1, 1) -> 1\n"
          ],
          "name": "stdout"
        }
      ]
    },
    {
      "cell_type": "code",
      "metadata": {
        "colab": {
          "base_uri": "https://localhost:8080/"
        },
        "id": "M2IU54UsR-3u",
        "outputId": "b51774b8-0d79-4f5f-f39b-353ba5ea167e"
      },
      "source": [
        "cat nand_gate.py"
      ],
      "execution_count": 9,
      "outputs": [
        {
          "output_type": "stream",
          "text": [
            "# coding: utf-8\n",
            "import numpy as np\n",
            "\n",
            "\n",
            "def NAND(x1, x2):\n",
            "    x = np.array([x1, x2])\n",
            "    w = np.array([-0.5, -0.5])\n",
            "    b = 0.7\n",
            "    tmp = np.sum(w*x) + b\n",
            "    if tmp <= 0:\n",
            "        return 0\n",
            "    else:\n",
            "        return 1\n",
            "\n",
            "if __name__ == '__main__':\n",
            "    for xs in [(0, 0), (1, 0), (0, 1), (1, 1)]:\n",
            "        y = NAND(xs[0], xs[1])\n",
            "        print(str(xs) + \" -> \" + str(y))\n"
          ],
          "name": "stdout"
        }
      ]
    },
    {
      "cell_type": "code",
      "metadata": {
        "colab": {
          "base_uri": "https://localhost:8080/"
        },
        "id": "BzuaOI7dSDVh",
        "outputId": "472d0b4f-5c6b-4e9c-e7aa-8fd1e8804804"
      },
      "source": [
        "! python nand_gate.py"
      ],
      "execution_count": 10,
      "outputs": [
        {
          "output_type": "stream",
          "text": [
            "(0, 0) -> 1\n",
            "(1, 0) -> 1\n",
            "(0, 1) -> 1\n",
            "(1, 1) -> 0\n"
          ],
          "name": "stdout"
        }
      ]
    },
    {
      "cell_type": "code",
      "metadata": {
        "colab": {
          "base_uri": "https://localhost:8080/"
        },
        "id": "elYo08KySMku",
        "outputId": "484793c2-4940-4f30-f617-1ecb3d8d71e7"
      },
      "source": [
        "cat or_gate.py"
      ],
      "execution_count": 11,
      "outputs": [
        {
          "output_type": "stream",
          "text": [
            "# coding: utf-8\n",
            "import numpy as np\n",
            "\n",
            "\n",
            "def OR(x1, x2):\n",
            "    x = np.array([x1, x2])\n",
            "    w = np.array([0.5, 0.5])\n",
            "    b = -0.2\n",
            "    tmp = np.sum(w*x) + b\n",
            "    if tmp <= 0:\n",
            "        return 0\n",
            "    else:\n",
            "        return 1\n",
            "\n",
            "if __name__ == '__main__':\n",
            "    for xs in [(0, 0), (1, 0), (0, 1), (1, 1)]:\n",
            "        y = OR(xs[0], xs[1])\n",
            "        print(str(xs) + \" -> \" + str(y))"
          ],
          "name": "stdout"
        }
      ]
    },
    {
      "cell_type": "code",
      "metadata": {
        "colab": {
          "base_uri": "https://localhost:8080/"
        },
        "id": "w16tQvsISQwg",
        "outputId": "f6cf08ee-f3a9-4a56-cd0a-e01608bd0340"
      },
      "source": [
        "! python or_gate.py"
      ],
      "execution_count": 12,
      "outputs": [
        {
          "output_type": "stream",
          "text": [
            "(0, 0) -> 0\n",
            "(1, 0) -> 1\n",
            "(0, 1) -> 1\n",
            "(1, 1) -> 1\n"
          ],
          "name": "stdout"
        }
      ]
    },
    {
      "cell_type": "code",
      "metadata": {
        "colab": {
          "base_uri": "https://localhost:8080/"
        },
        "id": "FsqjcvH6SZIH",
        "outputId": "16415cd5-7ca1-4d4e-eb80-f83ce0a1c5e1"
      },
      "source": [
        "cat xor_gate.py"
      ],
      "execution_count": 13,
      "outputs": [
        {
          "output_type": "stream",
          "text": [
            "# coding: utf-8\n",
            "from and_gate import AND\n",
            "from or_gate import OR\n",
            "from nand_gate import NAND\n",
            "\n",
            "\n",
            "def XOR(x1, x2):\n",
            "    s1 = NAND(x1, x2)\n",
            "    s2 = OR(x1, x2)\n",
            "    y = AND(s1, s2)\n",
            "    return y\n",
            "\n",
            "if __name__ == '__main__':\n",
            "    for xs in [(0, 0), (1, 0), (0, 1), (1, 1)]:\n",
            "        y = XOR(xs[0], xs[1])\n",
            "        print(str(xs) + \" -> \" + str(y))"
          ],
          "name": "stdout"
        }
      ]
    },
    {
      "cell_type": "code",
      "metadata": {
        "colab": {
          "base_uri": "https://localhost:8080/"
        },
        "id": "YFhl8bnwSd_p",
        "outputId": "59d65ca9-83a1-44d7-9022-5c5835b3db43"
      },
      "source": [
        "! python xor_gate.py"
      ],
      "execution_count": 14,
      "outputs": [
        {
          "output_type": "stream",
          "text": [
            "(0, 0) -> 0\n",
            "(1, 0) -> 1\n",
            "(0, 1) -> 1\n",
            "(1, 1) -> 0\n"
          ],
          "name": "stdout"
        }
      ]
    }
  ]
}